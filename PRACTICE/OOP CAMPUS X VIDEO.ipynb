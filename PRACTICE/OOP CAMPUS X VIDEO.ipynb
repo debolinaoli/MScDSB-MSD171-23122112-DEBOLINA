{
 "cells": [
  {
   "cell_type": "markdown",
   "metadata": {},
   "source": [
    "Everything in python is an object."
   ]
  },
  {
   "cell_type": "code",
   "execution_count": 18,
   "metadata": {},
   "outputs": [
    {
     "ename": "AttributeError",
     "evalue": "'list' object has no attribute 'upper'",
     "output_type": "error",
     "traceback": [
      "\u001b[1;31m---------------------------------------------------------------------------\u001b[0m",
      "\u001b[1;31mAttributeError\u001b[0m                            Traceback (most recent call last)",
      "\u001b[1;32md:\\MScDSB-MSD171-23122112-DEBOLINA\\OOP CAMPUS X VIDEO.ipynb Cell 2\u001b[0m line \u001b[0;36m2\n\u001b[0;32m      <a href='vscode-notebook-cell:/d%3A/MScDSB-MSD171-23122112-DEBOLINA/OOP%20CAMPUS%20X%20VIDEO.ipynb#W1sZmlsZQ%3D%3D?line=0'>1</a>\u001b[0m L \u001b[39m=\u001b[39m [\u001b[39m1\u001b[39m,\u001b[39m2\u001b[39m,\u001b[39m4\u001b[39m,\u001b[39m4\u001b[39m,\u001b[39m5\u001b[39m,\u001b[39m6\u001b[39m,\u001b[39m7\u001b[39m]\n\u001b[1;32m----> <a href='vscode-notebook-cell:/d%3A/MScDSB-MSD171-23122112-DEBOLINA/OOP%20CAMPUS%20X%20VIDEO.ipynb#W1sZmlsZQ%3D%3D?line=1'>2</a>\u001b[0m L\u001b[39m.\u001b[39;49mupper()\n",
      "\u001b[1;31mAttributeError\u001b[0m: 'list' object has no attribute 'upper'"
     ]
    }
   ],
   "source": [
    "L = [1,2,4,4,5,6,7]\n",
    "L.upper()"
   ]
  },
  {
   "cell_type": "code",
   "execution_count": null,
   "metadata": {},
   "outputs": [
    {
     "ename": "AttributeError",
     "evalue": "'str' object has no attribute 'append'",
     "output_type": "error",
     "traceback": [
      "\u001b[1;31m---------------------------------------------------------------------------\u001b[0m",
      "\u001b[1;31mAttributeError\u001b[0m                            Traceback (most recent call last)",
      "\u001b[1;32md:\\MScDSB-MSD171-23122112-DEBOLINA\\OOP CAMPUS X VIDEO.ipynb Cell 3\u001b[0m line \u001b[0;36m2\n\u001b[0;32m      <a href='vscode-notebook-cell:/d%3A/MScDSB-MSD171-23122112-DEBOLINA/OOP%20CAMPUS%20X%20VIDEO.ipynb#W3sZmlsZQ%3D%3D?line=0'>1</a>\u001b[0m s \u001b[39m=\u001b[39m \u001b[39m\"\u001b[39m\u001b[39mhello\u001b[39m\u001b[39m\"\u001b[39m\n\u001b[1;32m----> <a href='vscode-notebook-cell:/d%3A/MScDSB-MSD171-23122112-DEBOLINA/OOP%20CAMPUS%20X%20VIDEO.ipynb#W3sZmlsZQ%3D%3D?line=1'>2</a>\u001b[0m s\u001b[39m.\u001b[39;49mappend(\u001b[39m'\u001b[39m\u001b[39mx\u001b[39m\u001b[39m'\u001b[39m)\n",
      "\u001b[1;31mAttributeError\u001b[0m: 'str' object has no attribute 'append'"
     ]
    }
   ],
   "source": [
    "s = \"hello\"\n",
    "s.append('x')"
   ]
  },
  {
   "cell_type": "markdown",
   "metadata": {},
   "source": [
    "The main power of oop is that oop gives the programmer the power to create own datatypes..\n",
    "\n",
    "OOP consists 6 principles:\n",
    "object, class, polymorphism, encapsulation, inheritance, abstraction."
   ]
  },
  {
   "cell_type": "markdown",
   "metadata": {},
   "source": [
    "CLASS is basically a blue print,a set of rules that its how behaves its obejects\n",
    "Class has two properties, 1-> attributes or data or prpoerty, 2 -> functions or behavior.\n",
    "\n",
    "OBJECT is an instance of the class"
   ]
  },
  {
   "cell_type": "markdown",
   "metadata": {},
   "source": [
    "Syntax to create an object :->  objectname = classname()\n",
    "eg: -> "
   ]
  },
  {
   "cell_type": "code",
   "execution_count": null,
   "metadata": {},
   "outputs": [
    {
     "name": "stdout",
     "output_type": "stream",
     "text": [
      "[]\n"
     ]
    },
    {
     "data": {
      "text/plain": [
       "''"
      ]
     },
     "execution_count": 8,
     "metadata": {},
     "output_type": "execute_result"
    }
   ],
   "source": [
    "L = list()\n",
    "L\n",
    "print(L)\n",
    "s = str()\n",
    "s"
   ]
  },
  {
   "cell_type": "code",
   "execution_count": 22,
   "metadata": {},
   "outputs": [],
   "source": [
    "\n",
    "#  ATM problems\n",
    "\n",
    "class Atm:\n",
    "\n",
    "    # constructor( special function)=> fuction inside the class ->superpower\n",
    "    # this is an user defined classes\n",
    "  \n",
    "  def __init__(self):\n",
    "    self.pin = ''\n",
    "    self.balance = 0\n",
    "    self.menu()\n",
    "      # functionality:\n",
    "  def menu(self):\n",
    "    userinput = input(\"\"\"\n",
    "    hi how are you? how can i help you?\n",
    "    1. press 1 to create pin\n",
    "    2. press 2 to change pin\n",
    "    3. press 3 to check balance\n",
    "    4.press 4 to withdraw\n",
    "    5. good bye\"\"\")\n",
    "\n",
    "    if userinput== '1':      \n",
    "      # create pin\n",
    "      self.createpin()\n",
    "    elif userinput== '2':\n",
    "      # change pin\n",
    "      self.changepin()\n",
    "    elif userinput== '3':\n",
    "      # check balance\n",
    "      self.checkbalance()\n",
    "    elif userinput== '4':\n",
    "      # withdraw\n",
    "      self.withdraw()\n",
    "    else:\n",
    "      exit()\n",
    "       \n",
    "  def createpin(self):\n",
    "    userpin = input('enter your pin') \n",
    "    self.pin = userpin\n",
    "\n",
    "    userbalance = int(input('enter balance'))\n",
    "    self.balance = userbalance\n",
    "    print('pin created successfully')\n",
    "    self.menu()\n",
    "\n",
    "  def changepin(self):\n",
    "    oldpin = input('enter old pin ')\n",
    "    if oldpin == self.pin:\n",
    "      # let him change the pin\n",
    "      newpin = input('enter the new pin')\n",
    "      self.pin = newpin\n",
    "      print('pin changed successfully' )\n",
    "      self.menu()\n",
    "    else:\n",
    "      print('nai karne de sakta re baba')\n",
    "      self.menu()\n",
    "\n",
    "  def checkbalance(self):\n",
    "    userpin = input('enter your pin')\n",
    "    if userpin == self.pin:\n",
    "      print('your balace is ',self.balance)\n",
    "    else:\n",
    "      print('chal nikal')\n",
    "\n",
    "  def withdraw(self):\n",
    "    userpin = input('enter the pin')\n",
    "    if userpin == self.pin:\n",
    "      # allow to withdraw\n",
    "      amount = int(input('enter the amount'))\n",
    "      if amount <=  self.balance:\n",
    "        self.balance = self.balance - amount\n",
    "\n",
    "        print('withdrawl successful',self.balance)\n",
    "        self.menu()\n",
    "      else:\n",
    "       print('garib admi')\n",
    "    else:\n",
    "      print('sale chor')\n",
    "    self.menu()"
   ]
  },
  {
   "cell_type": "code",
   "execution_count": 23,
   "metadata": {},
   "outputs": [
    {
     "name": "stdout",
     "output_type": "stream",
     "text": [
      "pin created successfully\n",
      "withdrawl successful 5000\n",
      "your balace is  5000\n"
     ]
    },
    {
     "ename": "",
     "evalue": "",
     "output_type": "error",
     "traceback": [
      "\u001b[1;31mThe Kernel crashed while executing code in the the current cell or a previous cell. Please review the code in the cell(s) to identify a possible cause of the failure. Click <a href='https://aka.ms/vscodeJupyterKernelCrash'>here</a> for more info. View Jupyter <a href='command:jupyter.viewOutput'>log</a> for further details."
     ]
    }
   ],
   "source": [
    "object = Atm()"
   ]
  },
  {
   "cell_type": "code",
   "execution_count": null,
   "metadata": {},
   "outputs": [
    {
     "name": "stdout",
     "output_type": "stream",
     "text": [
      "<class '__main__.Atm'>\n"
     ]
    }
   ],
   "source": [
    "print(type(object))"
   ]
  },
  {
   "cell_type": "markdown",
   "metadata": {},
   "source": [
    "Types of classes are 2 ...1-> built in claases(list,tupples,sets,functions); 2.-> user defined classes."
   ]
  },
  {
   "cell_type": "markdown",
   "metadata": {},
   "source": [
    "Difference between methods & functions:\n",
    "  if any function implemented in the class then it's called methods & the function exists independently outside of the class is called fuctions "
   ]
  },
  {
   "cell_type": "code",
   "execution_count": null,
   "metadata": {},
   "outputs": [],
   "source": [
    "L = [1,2,3,4]\n",
    "len(4)        # =>>function bcz it is outside the list class\n",
    "L.append()    # =>> methods bcz it is inside the list class "
   ]
  },
  {
   "cell_type": "markdown",
   "metadata": {},
   "source": [
    " MAGIC METHODS :=>  special kind of methods => super power => usage of magic method -> to create own datatypes like fractions & coordinates...\n",
    " eg: \n",
    " __name__ => constructor(__init__)\n",
    "\n",
    "# constructor is used to write configaration related code."
   ]
  },
  {
   "cell_type": "code",
   "execution_count": 1,
   "metadata": {},
   "outputs": [
    {
     "name": "stdout",
     "output_type": "stream",
     "text": [
      "hello\n"
     ]
    }
   ],
   "source": [
    "class Temp:\n",
    "    def __init__(self): \n",
    "        print(\"hello\")\n",
    "obj= Temp()"
   ]
  },
  {
   "cell_type": "markdown",
   "metadata": {},
   "source": [
    "GOLDEN RULE OF OBJECT-ORIENTED PROGRAMMING: \n",
    "1. CLASS             2. OBJECT\n",
    "\n",
    "one function of a class cannot call any other function \n"
   ]
  },
  {
   "cell_type": "code",
   "execution_count": 7,
   "metadata": {},
   "outputs": [],
   "source": [
    "\n",
    "#  ATM problems\n",
    "\n",
    "class Atm:\n",
    "\n",
    "    # constructor( special function)=> fuction inside the class ->superpower\n",
    "    # this is an user defined classes\n",
    "  \n",
    "  def __init__(self):\n",
    "    print(id(self))\n",
    "    self.pin = ''\n",
    "    self.balance = 0\n",
    "    self.menu()\n",
    "      # functionality:\n",
    "  def menu(self):\n",
    "    userinput = input(\"\"\"\n",
    "    hi how are you? how can i help you?\n",
    "    1. press 1 to create pin\n",
    "    2. press 2 to change pin\n",
    "    3. press 3 to check balance\n",
    "    4.press 4 to withdraw\n",
    "    5. good bye\"\"\")\n",
    "\n",
    "    if userinput== '1':      \n",
    "      # create pin\n",
    "      self.createpin()\n",
    "    elif userinput== '2':\n",
    "      # change pin\n",
    "      self.changepin()\n",
    "    elif userinput== '3':\n",
    "      # check balance\n",
    "      self.checkbalance()\n",
    "    elif userinput== '4':\n",
    "      # withdraw\n",
    "      self.withdraw()\n",
    "    else:\n",
    "      exit()\n",
    "       \n",
    "  def createpin(self):\n",
    "    userpin = input('enter your pin') \n",
    "    self.pin = userpin\n",
    "\n",
    "    userbalance = int(input('enter balance'))\n",
    "    self.balance = userbalance\n",
    "    print('pin created successfully')\n",
    "    self.menu()\n",
    "\n",
    "  def changepin(self):\n",
    "    oldpin = input('enter old pin ')\n",
    "    if oldpin == self.pin:\n",
    "      # let him change the pin\n",
    "      newpin = input('enter the new pin')\n",
    "      self.pin = newpin\n",
    "      print('pin changed successfully' )\n",
    "      self.menu()\n",
    "    else:\n",
    "      print('nai karne de sakta re baba')\n",
    "      self.menu()\n",
    "\n",
    "  def checkbalance(self):\n",
    "    userpin = input('enter your pin')\n",
    "    if userpin == self.pin:\n",
    "      print('your balace is ',self.balance)\n",
    "    else:\n",
    "      print('chal nikal')\n",
    "\n",
    "  def withdraw(self):\n",
    "    userpin = input('enter the pin')\n",
    "    if userpin == self.pin:\n",
    "      # allow to withdraw\n",
    "      amount = int(input('enter the amount'))\n",
    "      if amount <=  self.balance:\n",
    "        self.balance = self.balance - amount\n",
    "\n",
    "        print('withdrawl successful',self.balance)\n",
    "        self.menu()\n",
    "      else:\n",
    "       print('garib admi')\n",
    "    else:\n",
    "      print('sale chor')\n",
    "    self.menu()"
   ]
  },
  {
   "cell_type": "code",
   "execution_count": 8,
   "metadata": {},
   "outputs": [
    {
     "name": "stdout",
     "output_type": "stream",
     "text": [
      "2179098710928\n",
      "pin created successfully\n"
     ]
    },
    {
     "ename": "",
     "evalue": "",
     "output_type": "error",
     "traceback": [
      "\u001b[1;31mThe Kernel crashed while executing code in the the current cell or a previous cell. Please review the code in the cell(s) to identify a possible cause of the failure. Click <a href='https://aka.ms/vscodeJupyterKernelCrash'>here</a> for more info. View Jupyter <a href='command:jupyter.viewOutput'>log</a> for further details."
     ]
    }
   ],
   "source": [
    "obj =  Atm()"
   ]
  },
  {
   "cell_type": "code",
   "execution_count": null,
   "metadata": {},
   "outputs": [
    {
     "ename": "NameError",
     "evalue": "name 'obj' is not defined",
     "output_type": "error",
     "traceback": [
      "\u001b[1;31m---------------------------------------------------------------------------\u001b[0m",
      "\u001b[1;31mNameError\u001b[0m                                 Traceback (most recent call last)",
      "\u001b[1;32md:\\MScDSB-MSD171-23122112-DEBOLINA\\OOP CAMPUS X VIDEO.ipynb Cell 19\u001b[0m line \u001b[0;36m1\n\u001b[1;32m----> <a href='vscode-notebook-cell:/d%3A/MScDSB-MSD171-23122112-DEBOLINA/OOP%20CAMPUS%20X%20VIDEO.ipynb#X24sZmlsZQ%3D%3D?line=0'>1</a>\u001b[0m \u001b[39mid\u001b[39m(obj)\n",
      "\u001b[1;31mNameError\u001b[0m: name 'obj' is not defined"
     ]
    }
   ],
   "source": [
    "id(obj)"
   ]
  },
  {
   "cell_type": "code",
   "execution_count": 28,
   "metadata": {},
   "outputs": [],
   "source": [
    "# create an own datatype named as Fraction\n",
    "\n",
    "class Fraction:\n",
    "\n",
    "    # parameterized constructor\n",
    "    def __init__(self,x,y):\n",
    "        self.numerator = x\n",
    "        self.denominator = y\n",
    "\n",
    "    def __str__(self):\n",
    "        return '{}/{}'.format(self.numerator,self.denominator)\n",
    "    def __add__(self,other):\n",
    "      new_numerator = self.numerator*other.denominator + other.numerator * self.denominator\n",
    "      new_denominator = self.denominator * other.denominator\n",
    "      return '{}/{}'.format(new_denominator,new_numerator)\n",
    "    def __sub__(self,other):\n",
    "      new_numerator = self.numerator*other.denominator + other.numerator * self.denominator\n",
    "      new_denominator = self.denominator * other.denominator\n",
    "      return '{}/{}'.format(new_denominator,new_numerator)\n",
    "    def __mul__(self,other):\n",
    "      new_numerator = self.numerator*other.numerator\n",
    "      new_denominator = self.denominator * other.denominator\n",
    "      return '{}/{}'.format(new_denominator,new_numerator)\n",
    "    def __truediv__(self,other):\n",
    "      new_numerator = self.numerator*other.denominator\n",
    "      new_denominator = self.denominator * other.numerator\n",
    "      return '{}/{}'.format(new_denominator,new_numerator)\n",
    "    \n",
    "    def convert_to_decimal(self):         # non magic methods\n",
    "       return self.numerator/self.denominator\n",
    "\n",
    "\n",
    " "
   ]
  },
  {
   "cell_type": "code",
   "execution_count": 29,
   "metadata": {},
   "outputs": [],
   "source": [
    "fr1 = Fraction(3,4)\n",
    "fr2 = Fraction(1,2)"
   ]
  },
  {
   "cell_type": "code",
   "execution_count": 30,
   "metadata": {},
   "outputs": [
    {
     "data": {
      "text/plain": [
       "0.75"
      ]
     },
     "execution_count": 30,
     "metadata": {},
     "output_type": "execute_result"
    }
   ],
   "source": [
    "fr1.convert_to_decimal()"
   ]
  },
  {
   "cell_type": "code",
   "execution_count": 27,
   "metadata": {},
   "outputs": [
    {
     "name": "stdout",
     "output_type": "stream",
     "text": [
      "8/10\n",
      "8/10\n",
      "8/3\n",
      "4/6\n"
     ]
    }
   ],
   "source": [
    "print(fr1+fr2)\n",
    "print(fr1-fr2)\n",
    "print(fr1*fr2)\n",
    "print(fr1/fr2)\n"
   ]
  },
  {
   "cell_type": "code",
   "execution_count": 11,
   "metadata": {},
   "outputs": [
    {
     "ename": "TypeError",
     "evalue": "Fraction.__init__() takes 1 positional argument but 3 were given",
     "output_type": "error",
     "traceback": [
      "\u001b[1;31m---------------------------------------------------------------------------\u001b[0m",
      "\u001b[1;31mTypeError\u001b[0m                                 Traceback (most recent call last)",
      "\u001b[1;32md:\\MScDSB-MSD171-23122112-DEBOLINA\\OOP CAMPUS X VIDEO.ipynb Cell 21\u001b[0m line \u001b[0;36m1\n\u001b[1;32m----> <a href='vscode-notebook-cell:/d%3A/MScDSB-MSD171-23122112-DEBOLINA/OOP%20CAMPUS%20X%20VIDEO.ipynb#X26sZmlsZQ%3D%3D?line=0'>1</a>\u001b[0m hello \u001b[39m=\u001b[39m Fraction(\u001b[39m3\u001b[39;49m,\u001b[39m4\u001b[39;49m)\n",
      "\u001b[1;31mTypeError\u001b[0m: Fraction.__init__() takes 1 positional argument but 3 were given"
     ]
    }
   ],
   "source": [
    "hello = Fraction(3,4)"
   ]
  },
  {
   "cell_type": "code",
   "execution_count": 6,
   "metadata": {},
   "outputs": [
    {
     "ename": "NameError",
     "evalue": "name 'obj' is not defined",
     "output_type": "error",
     "traceback": [
      "\u001b[1;31m---------------------------------------------------------------------------\u001b[0m",
      "\u001b[1;31mNameError\u001b[0m                                 Traceback (most recent call last)",
      "\u001b[1;32md:\\MScDSB-MSD171-23122112-DEBOLINA\\OOP CAMPUS X VIDEO.ipynb Cell 22\u001b[0m line \u001b[0;36m1\n\u001b[1;32m----> <a href='vscode-notebook-cell:/d%3A/MScDSB-MSD171-23122112-DEBOLINA/OOP%20CAMPUS%20X%20VIDEO.ipynb#X30sZmlsZQ%3D%3D?line=0'>1</a>\u001b[0m \u001b[39mprint\u001b[39m(obj)\n",
      "\u001b[1;31mNameError\u001b[0m: name 'obj' is not defined"
     ]
    }
   ],
   "source": [
    "print(hello)"
   ]
  }
 ],
 "metadata": {
  "kernelspec": {
   "display_name": "Python 3",
   "language": "python",
   "name": "python3"
  },
  "language_info": {
   "codemirror_mode": {
    "name": "ipython",
    "version": 3
   },
   "file_extension": ".py",
   "mimetype": "text/x-python",
   "name": "python",
   "nbconvert_exporter": "python",
   "pygments_lexer": "ipython3",
   "version": "3.11.4"
  }
 },
 "nbformat": 4,
 "nbformat_minor": 2
}
