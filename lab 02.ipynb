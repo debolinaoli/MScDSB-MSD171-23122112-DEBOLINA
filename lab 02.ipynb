{
 "cells": [
  {
   "cell_type": "code",
   "execution_count": 2,
   "metadata": {},
   "outputs": [
    {
     "name": "stdout",
     "output_type": "stream",
     "text": [
      "Input: 98 => Output: 98NineEight\n",
      "Input: 345 => Output: 345ThreeFourFive\n",
      "Input: 24 => Output: 24TwoFour\n",
      "\n",
      "Data Analysis:\n",
      "Average length of converted numbers: 12.00\n",
      "Total number of characters in all converted numbers: 36\n"
     ]
    }
   ],
   "source": [
    "def convert_to_alice_format(number):\n",
    "    if not isinstance(number, int) or number < 0:\n",
    "        return \"Invalid input. Please enter a positive integer.\"\n",
    "\n",
    "    # Define mappings for digits\n",
    "    digit_mappings = {\n",
    "        0: \"Zero\",\n",
    "        1: \"One\",\n",
    "        2: \"Two\",\n",
    "        3: \"Three\",\n",
    "        4: \"Four\",\n",
    "        5: \"Five\",\n",
    "        6: \"Six\",\n",
    "        7: \"Seven\",\n",
    "        8: \"Eight\",\n",
    "        9: \"Nine\"\n",
    "    }\n",
    "\n",
    "    # Convert the number to Alice's format\n",
    "    number_str = str(number)\n",
    "    alice_format = \"\".join([digit_mappings[int(digit)] for digit in number_str])   # alice_format = \"\".join([digit_mappings[int(digit)] for digit in number_str]):number_str contains the string representation of the input number[digit_mappings[int(digit)] for digit in number_str]: This is a list comprehension that iterates over each character (digit) in the number_str.int(digit) converts each character (digit) back to an integer. This step is important because we need to look up the corresponding word for each digit in digit_mappings, which is a dictionary.digit_mappings[int(digit)] retrieves the word associated with the integer digit from the digit_mappings dictionary. For example, if digit is '2', digit_mappings[int(digit)] will return 'Two'.The list comprehension generates a list of word representations of each digit in the input number.\n",
    "\n",
    "\n",
    "    return f\"{number}{alice_format}\"\n",
    "\n",
    "# Test the function with various inputs\n",
    "inputs = [98, 345, 24]\n",
    "for input_num in inputs:\n",
    "    result = convert_to_alice_format(input_num)\n",
    "    print(f\"Input: {input_num} => Output: {result}\")\n",
    "\n",
    "# Data Analysis\n",
    "# Let's analyze the converted numbers\n",
    "converted_numbers = [convert_to_alice_format(num) for num in inputs if isinstance(num, int) and num >= 0]\n",
    "\n",
    "# Calculate the average length of the converted numbers\n",
    "average_length = sum(len(num) for num in converted_numbers) / len(converted_numbers)\n",
    "\n",
    "# Calculate the total number of characters in all converted numbers\n",
    "total_characters = sum(len(num) for num in converted_numbers)\n",
    "\n",
    "print(\"\\nData Analysis:\")\n",
    "print(f\"Average length of converted numbers: {average_length:.2f}\")\n",
    "print(f\"Total number of characters in all converted numbers: {total_characters}\")\n"
   ]
  }
 ],
 "metadata": {
  "kernelspec": {
   "display_name": "Python 3",
   "language": "python",
   "name": "python3"
  },
  "language_info": {
   "codemirror_mode": {
    "name": "ipython",
    "version": 3
   },
   "file_extension": ".py",
   "mimetype": "text/x-python",
   "name": "python",
   "nbconvert_exporter": "python",
   "pygments_lexer": "ipython3",
   "version": "3.11.4"
  },
  "orig_nbformat": 4
 },
 "nbformat": 4,
 "nbformat_minor": 2
}
