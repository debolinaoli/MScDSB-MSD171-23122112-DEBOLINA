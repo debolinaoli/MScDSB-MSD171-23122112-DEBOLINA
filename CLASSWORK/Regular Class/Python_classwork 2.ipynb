{
  "nbformat": 4,
  "nbformat_minor": 0,
  "metadata": {
    "colab": {
      "provenance": []
    },
    "kernelspec": {
      "name": "python3",
      "display_name": "Python 3"
    },
    "language_info": {
      "name": "python"
    }
  },
  "cells": [
    {
      "cell_type": "code",
      "execution_count": null,
      "metadata": {
        "colab": {
          "base_uri": "https://localhost:8080/"
        },
        "id": "5W5eLVHyu7Jn",
        "outputId": "f6e74444-ef7c-428d-f673-117bf398dda4"
      },
      "outputs": [
        {
          "output_type": "stream",
          "name": "stdout",
          "text": [
            "Enter a list of numbers separeted via commas: 2,5\n",
            "Sum:  7\n"
          ]
        }
      ],
      "source": [
        "# enter a list of numbers separated by commas and find out its sum:\n",
        "def sumlistfn(lst):\n",
        "  sum=0\n",
        "  #logic to sum the numbers in the list\n",
        "  for item in lst:\n",
        "       sum += int(item)\n",
        "  return sum\n",
        "userInput =input(\"Enter a list of numbers separeted via commas: \")\n",
        "# 2,3,4,5,6,7,10,23\n",
        "array = userInput.strip().split(',')\n",
        "# [\"2\",\"3\",\"4\",\"5\",\"6\",\"7\",\"10\",\"23\"]\n",
        "sum = sumlistfn(array)\n",
        "print(\"Sum: \",sum)"
      ]
    },
    {
      "cell_type": "code",
      "source": [
        "\n",
        "# count the nos odd and even nos in the list and print the odd nos count and even numbers count along with the numbers you will have a fuction that will take a list of numbers,\n",
        "#  then returns the count of odd nos and even nos and the new list of odd nos and even nos\n",
        " ls = [4,5,6,7]\n",
        " def odd_even(ls):\n",
        "     odd = []\n",
        "     even []\n",
        "     for i in ls:\n",
        "        if int(i)% 2 == 0:\n",
        "           even.append(i)\n",
        "        else:\n",
        "          odd.append(i)\n",
        "     return even, odd\n",
        "numbers = input(\"enter the numbers: \".split(','))\n",
        "even, odd = odd_even(numbers)\n",
        "print(\"count of the even number is  \", len(even))\n",
        "print(\"list of even numbers: \", even)\n",
        "print(\"count of the odd number is  \", len(odd))\n",
        "print(\"list of odd numbers: \", odd)\n",
        "\n"
      ],
      "metadata": {
        "colab": {
          "base_uri": "https://localhost:8080/",
          "height": 140
        },
        "id": "77D-Fl2Evic2",
        "outputId": "5239ee24-5c23-49b1-de10-04be70f2263d"
      },
      "execution_count": null,
      "outputs": [
        {
          "output_type": "error",
          "ename": "IndentationError",
          "evalue": "ignored",
          "traceback": [
            "\u001b[0;36m  File \u001b[0;32m\"<ipython-input-5-a4c513211102>\"\u001b[0;36m, line \u001b[0;32m3\u001b[0m\n\u001b[0;31m    ls = 4,5,6,7\u001b[0m\n\u001b[0m    ^\u001b[0m\n\u001b[0;31mIndentationError\u001b[0m\u001b[0;31m:\u001b[0m unexpected indent\n"
          ]
        }
      ]
    }
  ]
}