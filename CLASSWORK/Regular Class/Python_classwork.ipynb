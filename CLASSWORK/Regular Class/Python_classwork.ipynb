{
  "cells": [
    {
      "cell_type": "code",
      "execution_count": null,
      "metadata": {
        "colab": {
          "base_uri": "https://localhost:8080/"
        },
        "id": "2f0scqmwywRO",
        "outputId": "4056913b-2b63-4940-d1f9-4f10778c204f"
      },
      "outputs": [
        {
          "data": {
            "text/plain": [
              "str"
            ]
          },
          "execution_count": 1,
          "metadata": {},
          "output_type": "execute_result"
        }
      ],
      "source": [
        "sd=\"bestie\"\n",
        "type(sd)"
      ]
    },
    {
      "cell_type": "code",
      "execution_count": null,
      "metadata": {
        "colab": {
          "base_uri": "https://localhost:8080/"
        },
        "id": "ySUd6LqvEsW_",
        "outputId": "c1ca93f2-f928-4755-9f71-1aa1c181210a"
      },
      "outputs": [
        {
          "data": {
            "text/plain": [
              "float"
            ]
          },
          "execution_count": 16,
          "metadata": {},
          "output_type": "execute_result"
        }
      ],
      "source": [
        "msg= 79.98\n",
        "type(msg)"
      ]
    },
    {
      "cell_type": "code",
      "execution_count": null,
      "metadata": {
        "colab": {
          "base_uri": "https://localhost:8080/"
        },
        "id": "HBEQCfwwzEA0",
        "outputId": "d9682032-0d25-4bf5-dc42-fd07a6a890fb"
      },
      "outputs": [
        {
          "name": "stdout",
          "output_type": "stream",
          "text": [
            "program start\n",
            " the value of a is 5\n",
            "program end\n"
          ]
        }
      ],
      "source": [
        "a=5\n",
        "print(\"program start\")\n",
        "if a == 50:\n",
        "   print(\" the value of a is 5\")\n",
        "else:\n",
        "  print(\"the number is something else\")\n",
        "print(\"program end\")"
      ]
    },
    {
      "cell_type": "code",
      "execution_count": null,
      "metadata": {
        "colab": {
          "base_uri": "https://localhost:8080/"
        },
        "id": "TdCIB7-Z2d5e",
        "outputId": "cf40d440-35fd-4bc3-cda8-cb275089926c"
      },
      "outputs": [
        {
          "name": "stdout",
          "output_type": "stream",
          "text": [
            "print not five\n"
          ]
        }
      ],
      "source": [
        "a = 10\n",
        "if a == 5:\n",
        "    print(\"print five\")\n",
        "elif a==1:\n",
        "   print(\"one\")\n",
        "else:\n",
        "    print(\"print not five\")"
      ]
    },
    {
      "cell_type": "code",
      "execution_count": null,
      "metadata": {
        "colab": {
          "base_uri": "https://localhost:8080/"
        },
        "id": "hcE-T7WYGNSz",
        "outputId": "b51ba98b-99df-4225-d670-3e6531e6569e"
      },
      "outputs": [
        {
          "name": "stdout",
          "output_type": "stream",
          "text": [
            "nothing\n"
          ]
        }
      ],
      "source": [
        "# based on the user input, print the corresponding day of the week if 1->sunday,if 2->monday,and so on\n",
        "a = 5\n",
        "if a==1:\n",
        "  print(\"sunday\")\n",
        "elif a==2:\n",
        "  print(\"monday\")\n",
        "else:\n",
        "  print (\"nothing\")"
      ]
    },
    {
      "cell_type": "code",
      "execution_count": null,
      "metadata": {
        "colab": {
          "base_uri": "https://localhost:8080/"
        },
        "id": "Uhy9BQOuKDxz",
        "outputId": "60f06785-9763-44c6-86de-eb25fa820f4b"
      },
      "outputs": [
        {
          "name": "stdout",
          "output_type": "stream",
          "text": [
            "13\n"
          ]
        }
      ],
      "source": [
        "msg= \"I am debolina\"\n",
        "len (msg)\n",
        "print(len(msg))\n"
      ]
    },
    {
      "cell_type": "code",
      "execution_count": null,
      "metadata": {
        "colab": {
          "base_uri": "https://localhost:8080/"
        },
        "id": "n7NMpZyGTWys",
        "outputId": "6ed7eb8a-a11f-4826-dffd-99353159cc54"
      },
      "outputs": [
        {
          "name": "stdout",
          "output_type": "stream",
          "text": [
            "I AM DEBOLINA\n",
            "i am debolina\n",
            "i AM DEBOLINA\n"
          ]
        }
      ],
      "source": [
        "print(msg.upper())\n",
        "print(msg.lower())\n",
        "print(msg.swapcase())"
      ]
    },
    {
      "cell_type": "code",
      "execution_count": null,
      "metadata": {
        "colab": {
          "base_uri": "https://localhost:8080/"
        },
        "id": "elNWfMIoT1Ql",
        "outputId": "3ea66c72-603e-43e3-a09f-8d6c77e72ffc"
      },
      "outputs": [
        {
          "name": "stdout",
          "output_type": "stream",
          "text": [
            "<class 'str'>\n",
            "23\n",
            "4\n"
          ]
        }
      ],
      "source": [
        "msg=\"          debo         \"\n",
        "print(type(msg))\n",
        "print(len(msg))\n",
        "print(len(msg.strip()))"
      ]
    },
    {
      "cell_type": "code",
      "execution_count": null,
      "metadata": {
        "colab": {
          "base_uri": "https://localhost:8080/"
        },
        "id": "3-mKybDEW-7h",
        "outputId": "51c044c7-9c76-4670-e281-5b268812ace4"
      },
      "outputs": [
        {
          "name": "stdout",
          "output_type": "stream",
          "text": [
            "<class 'str'>\n",
            "26\n",
            "8\n"
          ]
        }
      ],
      "source": [
        "msg=\"          debo sid        \"\n",
        "print(type(msg))\n",
        "print(len(msg))\n",
        "print(len(msg.strip()))"
      ]
    },
    {
      "cell_type": "code",
      "execution_count": null,
      "metadata": {
        "colab": {
          "base_uri": "https://localhost:8080/"
        },
        "id": "MyQ8DKS1VwgI",
        "outputId": "8e9788a4-2713-4c86-adb4-9ef6db1496d3"
      },
      "outputs": [
        {
          "name": "stdout",
          "output_type": "stream",
          "text": [
            "5\n",
            "6\n",
            "7\n",
            "8\n"
          ]
        }
      ],
      "source": [
        "numbers =\"5,6,7,8\"\n",
        "nos=numbers.split(',')\n",
        "for item in nos:\n",
        "    print(item)"
      ]
    },
    {
      "cell_type": "code",
      "execution_count": null,
      "metadata": {
        "colab": {
          "base_uri": "https://localhost:8080/"
        },
        "id": "RwOOrdGsXbvK",
        "outputId": "efd33298-1cb6-4700-a16b-cd6c5e856b7c"
      },
      "outputs": [
        {
          "name": "stdout",
          "output_type": "stream",
          "text": [
            "<class 'str'>\n",
            "<class 'str'>\n",
            "<class 'str'>\n",
            "<class 'str'>\n"
          ]
        }
      ],
      "source": [
        "numbers =\"5,6,7,8\"\n",
        "nos=numbers.split(',')\n",
        "for item in nos:\n",
        "    print(type(numbers))"
      ]
    },
    {
      "cell_type": "code",
      "execution_count": null,
      "metadata": {
        "colab": {
          "base_uri": "https://localhost:8080/"
        },
        "id": "kg2AALyGWkOI",
        "outputId": "ffd4fac4-65eb-4283-c912-1950e3d7d847"
      },
      "outputs": [
        {
          "name": "stdout",
          "output_type": "stream",
          "text": [
            "5\n",
            " 6\n",
            "7\n",
            " 8\n"
          ]
        }
      ],
      "source": [
        "numbers =\"5, 6,7, 8\"\n",
        "nos=numbers.split(',')\n",
        "for item in nos:\n",
        "    print(item)"
      ]
    },
    {
      "cell_type": "code",
      "execution_count": null,
      "metadata": {
        "colab": {
          "base_uri": "https://localhost:8080/"
        },
        "id": "fk7KqXjqUs-o",
        "outputId": "64285f00-121b-4cbc-df59-a5ec043b8c93"
      },
      "outputs": [
        {
          "name": "stdout",
          "output_type": "stream",
          "text": [
            "['4', '6', '9', '8']\n"
          ]
        }
      ],
      "source": [
        "numbers=\"4,6,9,8\"\n",
        "print(numbers.split(','))"
      ]
    },
    {
      "cell_type": "code",
      "execution_count": null,
      "metadata": {
        "colab": {
          "base_uri": "https://localhost:8080/"
        },
        "id": "tEMga2EHYKy1",
        "outputId": "4b6c319c-c6ab-4111-c438-e5ffb683fa70"
      },
      "outputs": [
        {
          "name": "stdout",
          "output_type": "stream",
          "text": [
            "['5', '6', '7', '8']\n",
            "5 <class 'str'> 5 <class 'int'>\n",
            "6 <class 'str'> 6 <class 'int'>\n",
            "7 <class 'str'> 7 <class 'int'>\n",
            "8 <class 'str'> 8 <class 'int'>\n"
          ]
        }
      ],
      "source": [
        "numbers =\"5,6,7,8\"\n",
        "nos=numbers.split(',')\n",
        "print (nos)\n",
        "for item in nos: #temp is used for coverting something like int to string etc etc\n",
        "  temp = int(item)\n",
        "  print(item,type(item),temp,type(temp))"
      ]
    },
    {
      "cell_type": "code",
      "execution_count": null,
      "metadata": {
        "colab": {
          "base_uri": "https://localhost:8080/"
        },
        "id": "TN2MQ1phZUkI",
        "outputId": "01fc483b-0be3-46b6-ad76-748fba313d12"
      },
      "outputs": [
        {
          "name": "stdout",
          "output_type": "stream",
          "text": [
            "['5', '6', '7', '8']\n",
            "5 <class 'str'> 5 <class 'int'>\n",
            "5\n",
            "6 <class 'str'> 6 <class 'int'>\n",
            "11\n",
            "7 <class 'str'> 7 <class 'int'>\n",
            "18\n",
            "8 <class 'str'> 8 <class 'int'>\n",
            "26\n"
          ]
        }
      ],
      "source": [
        "numbers =\"5,6,7,8\"\n",
        "nos=numbers.split(',')\n",
        "print (nos)\n",
        "sum = 0        #sum is any no which you can choose by yourself\n",
        "for item in nos: #temp is used for coverting something like int to string etc etc\n",
        "  temp = int(item)\n",
        "  sum =sum +temp\n",
        "  print(item,type(item),temp,type(temp))\n",
        "  print(sum)"
      ]
    },
    {
      "cell_type": "code",
      "execution_count": null,
      "metadata": {
        "colab": {
          "base_uri": "https://localhost:8080/"
        },
        "id": "-7sbDoCeBFaw",
        "outputId": "f81876d8-f57c-47e2-b0ea-65e57cbe45e0"
      },
      "outputs": [
        {
          "name": "stdout",
          "output_type": "stream",
          "text": [
            "6\n"
          ]
        }
      ],
      "source": [
        "msg = \"1, 2, 3\"\n",
        "df = msg.split(\",\")\n",
        "sum = 0\n",
        "for item in df:\n",
        "  temp = int(item)\n",
        "  sum = sum + temp\n",
        "print(sum)"
      ]
    },
    {
      "cell_type": "code",
      "execution_count": null,
      "metadata": {
        "colab": {
          "base_uri": "https://localhost:8080/"
        },
        "id": "PpvbbNsGBnUm",
        "outputId": "19fd6dac-bc8a-4025-94f3-a0996395d23b"
      },
      "outputs": [
        {
          "data": {
            "text/plain": [
              "6"
            ]
          },
          "execution_count": 3,
          "metadata": {},
          "output_type": "execute_result"
        }
      ],
      "source": [
        "def sumlist(lst):\n",
        " sum = 0\n",
        " for item in df:\n",
        "  temp = int(item)\n",
        "  sum = sum + temp\n",
        " return sum\n",
        "sumlist([1,2,3])\n"
      ]
    },
    {
      "cell_type": "code",
      "execution_count": null,
      "metadata": {
        "colab": {
          "base_uri": "https://localhost:8080/"
        },
        "id": "VtozPqPbbWsW",
        "outputId": "385b3be8-6696-408d-9425-0d81ccaa34a2"
      },
      "outputs": [
        {
          "name": "stdout",
          "output_type": "stream",
          "text": [
            "enter the name oli\n",
            "enter the password 098\n",
            "your name: oli and password entered is: 098\n"
          ]
        }
      ],
      "source": [
        "# format\n",
        "name = input(\"enter the name \")\n",
        "password = input(\"enter the password \")\n",
        "print(\"your name: {} and password entered is: {}\".format(name,password))  #curly brackets required"
      ]
    },
    {
      "cell_type": "code",
      "execution_count": null,
      "metadata": {
        "colab": {
          "base_uri": "https://localhost:8080/"
        },
        "id": "E0FPaQ-HcCPc",
        "outputId": "e77a7d7a-5128-4160-f5c8-c20df3bf91cc"
      },
      "outputs": [
        {
          "name": "stdout",
          "output_type": "stream",
          "text": [
            "10\n",
            "17\n",
            "24\n",
            "31\n",
            "38\n",
            "45\n",
            "52\n",
            "59\n",
            "66\n",
            "73\n",
            "80\n",
            "87\n"
          ]
        }
      ],
      "source": [
        "# for\n",
        "for i in range(10,89,7):\n",
        "  print(i)\n"
      ]
    },
    {
      "cell_type": "code",
      "execution_count": null,
      "metadata": {
        "colab": {
          "base_uri": "https://localhost:8080/"
        },
        "id": "jx4RNkNVdSvI",
        "outputId": "b94bf7ef-925c-48f7-99d9-0d4da60bd896"
      },
      "outputs": [
        {
          "name": "stdout",
          "output_type": "stream",
          "text": [
            "2\n",
            "4\n",
            "6\n",
            "8\n",
            "10\n",
            "12\n",
            "14\n",
            "16\n",
            "18\n",
            "20\n",
            "22\n",
            "24\n",
            "26\n",
            "28\n",
            "30\n",
            "32\n",
            "34\n",
            "36\n",
            "38\n",
            "40\n",
            "42\n",
            "44\n",
            "46\n",
            "48\n",
            "600\n"
          ]
        }
      ],
      "source": [
        "#find the sum of n multiples of 2 where n is an user input\n",
        "sum = 0\n",
        "for i in range (2,50,2):\n",
        " print (i)\n",
        " sum = sum +i\n",
        "\n",
        "print (sum )\n"
      ]
    },
    {
      "cell_type": "code",
      "execution_count": null,
      "metadata": {
        "colab": {
          "base_uri": "https://localhost:8080/"
        },
        "id": "BZ67w3rYfYmS",
        "outputId": "d9b4b7b3-df4d-4354-858e-aa64a641e8b7"
      },
      "outputs": [
        {
          "name": "stdout",
          "output_type": "stream",
          "text": [
            "['abc', 67, 89, 'jiu']\n"
          ]
        }
      ],
      "source": [
        "#list\n",
        "nlist = [\"abc\", 67,89,\"jiu\"]\n",
        "print(nlist)"
      ]
    },
    {
      "cell_type": "code",
      "execution_count": null,
      "metadata": {
        "colab": {
          "base_uri": "https://localhost:8080/",
          "height": 210
        },
        "id": "epWO7v1ef9z7",
        "outputId": "ba312a8b-8ec9-426e-f050-7814ed47bada"
      },
      "outputs": [
        {
          "ename": "IndexError",
          "evalue": "ignored",
          "output_type": "error",
          "traceback": [
            "\u001b[0;31m---------------------------------------------------------------------------\u001b[0m",
            "\u001b[0;31mIndexError\u001b[0m                                Traceback (most recent call last)",
            "\u001b[0;32m<ipython-input-61-fb58ce6b2604>\u001b[0m in \u001b[0;36m<cell line: 3>\u001b[0;34m()\u001b[0m\n\u001b[1;32m      1\u001b[0m \u001b[0;31m#list\u001b[0m\u001b[0;34m\u001b[0m\u001b[0;34m\u001b[0m\u001b[0m\n\u001b[1;32m      2\u001b[0m \u001b[0mnlist\u001b[0m \u001b[0;34m=\u001b[0m \u001b[0;34m[\u001b[0m\u001b[0;34m\"abc\"\u001b[0m\u001b[0;34m,\u001b[0m \u001b[0;36m67\u001b[0m\u001b[0;34m,\u001b[0m\u001b[0;36m89\u001b[0m\u001b[0;34m,\u001b[0m\u001b[0;34m\"jiu\"\u001b[0m\u001b[0;34m]\u001b[0m\u001b[0;34m\u001b[0m\u001b[0;34m\u001b[0m\u001b[0m\n\u001b[0;32m----> 3\u001b[0;31m \u001b[0mprint\u001b[0m\u001b[0;34m(\u001b[0m\u001b[0mnlist\u001b[0m\u001b[0;34m[\u001b[0m\u001b[0;36m10\u001b[0m\u001b[0;34m]\u001b[0m\u001b[0;34m)\u001b[0m\u001b[0;34m\u001b[0m\u001b[0;34m\u001b[0m\u001b[0m\n\u001b[0m",
            "\u001b[0;31mIndexError\u001b[0m: list index out of range"
          ]
        }
      ],
      "source": [
        "#list\n",
        "nlist = [\"abc\", 67,89,\"jiu\"]\n",
        "print(nlist[10])"
      ]
    },
    {
      "cell_type": "code",
      "execution_count": null,
      "metadata": {
        "colab": {
          "base_uri": "https://localhost:8080/"
        },
        "id": "27_j3l2TVgBg",
        "outputId": "7d0cb101-da45-4cd1-823c-319a210237ea"
      },
      "outputs": [
        {
          "name": "stdout",
          "output_type": "stream",
          "text": [
            "['one', 'two', 'three', 'four']\n"
          ]
        }
      ],
      "source": [
        "listex= [\"one\", \"two\",\"three\",\"four\"]\n",
        "print(listex)\n"
      ]
    },
    {
      "cell_type": "code",
      "execution_count": null,
      "metadata": {
        "colab": {
          "base_uri": "https://localhost:8080/"
        },
        "id": "rIcFcxKXW7kO",
        "outputId": "f37fb707-b8b3-4013-9d21-6e79ef202a46"
      },
      "outputs": [
        {
          "name": "stdout",
          "output_type": "stream",
          "text": [
            "success\n"
          ]
        }
      ],
      "source": [
        "if \"three\" in listex:\n",
        "  print (\"success\")"
      ]
    },
    {
      "cell_type": "code",
      "execution_count": null,
      "metadata": {
        "colab": {
          "base_uri": "https://localhost:8080/"
        },
        "id": "5AWN0HthXeA6",
        "outputId": "3bd89acf-2369-4823-da34-c736cf4d772b"
      },
      "outputs": [
        {
          "name": "stdout",
          "output_type": "stream",
          "text": [
            "['one', 'two', 'three', 'four', 'five', 'five']\n"
          ]
        }
      ],
      "source": [
        "listex.append(\"five\")\n",
        "print(listex) #it adds jotobar run kora hobe"
      ]
    },
    {
      "cell_type": "code",
      "execution_count": null,
      "metadata": {
        "colab": {
          "base_uri": "https://localhost:8080/"
        },
        "id": "QvzqOdNFYFvE",
        "outputId": "afcdc3da-6734-40a8-fa57-6afe3ddd15ea"
      },
      "outputs": [
        {
          "data": {
            "text/plain": [
              "['one', 'two', 'three', 'four', 'five']"
            ]
          },
          "execution_count": 16,
          "metadata": {},
          "output_type": "execute_result"
        }
      ],
      "source": [
        "listex.pop()\n",
        "listex # it subtracts jotobar run kora hobe"
      ]
    },
    {
      "cell_type": "code",
      "execution_count": null,
      "metadata": {
        "colab": {
          "base_uri": "https://localhost:8080/"
        },
        "id": "72qSS1yUYZca",
        "outputId": "cbde7614-976c-4bb9-ff3c-772079b91813"
      },
      "outputs": [
        {
          "data": {
            "text/plain": [
              "['two', 'three', 'four', 'five']"
            ]
          },
          "execution_count": 17,
          "metadata": {},
          "output_type": "execute_result"
        }
      ],
      "source": [
        "listex.remove(\"one\")\n",
        "listex"
      ]
    },
    {
      "cell_type": "code",
      "execution_count": null,
      "metadata": {
        "colab": {
          "base_uri": "https://localhost:8080/"
        },
        "id": "a3ZQNRwkZQVz",
        "outputId": "3588a7af-c992-474c-f16d-b05b97c8379f"
      },
      "outputs": [
        {
          "data": {
            "text/plain": [
              "4"
            ]
          },
          "execution_count": 18,
          "metadata": {},
          "output_type": "execute_result"
        }
      ],
      "source": [
        "len(listex) #"
      ]
    },
    {
      "cell_type": "code",
      "execution_count": null,
      "metadata": {
        "id": "mK_1oTmUZd6j"
      },
      "outputs": [],
      "source": [
        "sort()|reverse()"
      ]
    },
    {
      "cell_type": "code",
      "execution_count": null,
      "metadata": {
        "colab": {
          "base_uri": "https://localhost:8080/"
        },
        "id": "7Ga7zfckZrmi",
        "outputId": "3ff8db9d-0ddf-4827-a1ea-411a33e4fafc"
      },
      "outputs": [
        {
          "data": {
            "text/plain": [
              "['five', 'four', 'three', 'two']"
            ]
          },
          "execution_count": 19,
          "metadata": {},
          "output_type": "execute_result"
        }
      ],
      "source": [
        "listex.reverse()\n",
        "listex"
      ]
    },
    {
      "cell_type": "code",
      "execution_count": null,
      "metadata": {
        "colab": {
          "base_uri": "https://localhost:8080/"
        },
        "id": "_ZZ8i2aqaXMw",
        "outputId": "fffe4029-bac0-4040-b3f2-d81c74901974"
      },
      "outputs": [
        {
          "data": {
            "text/plain": [
              "['five', 'four', 'three', 'two']"
            ]
          },
          "execution_count": 20,
          "metadata": {},
          "output_type": "execute_result"
        }
      ],
      "source": [
        "listex.sort() # sort uses to change ascending or descending order and reverse changes the recent code to des to asc\n",
        "listex"
      ]
    },
    {
      "cell_type": "code",
      "execution_count": null,
      "metadata": {
        "colab": {
          "base_uri": "https://localhost:8080/"
        },
        "id": "wF94kQ2Vbarb",
        "outputId": "12fa0f34-e91c-4ed3-e429-1acea3f15303"
      },
      "outputs": [
        {
          "data": {
            "text/plain": [
              "['five', 'four', 'three', 'two']"
            ]
          },
          "execution_count": 21,
          "metadata": {},
          "output_type": "execute_result"
        }
      ],
      "source": [
        "listex.sort()\n",
        "listex"
      ]
    },
    {
      "cell_type": "code",
      "execution_count": null,
      "metadata": {
        "colab": {
          "base_uri": "https://localhost:8080/"
        },
        "id": "BKAau-LYbgLr",
        "outputId": "fe286e42-0221-4557-e37a-5cbf9996572f"
      },
      "outputs": [
        {
          "data": {
            "text/plain": [
              "['two', 'three', 'four', 'five']"
            ]
          },
          "execution_count": 22,
          "metadata": {},
          "output_type": "execute_result"
        }
      ],
      "source": [
        "listex.reverse()\n",
        "listex"
      ]
    },
    {
      "cell_type": "code",
      "execution_count": null,
      "metadata": {
        "colab": {
          "base_uri": "https://localhost:8080/"
        },
        "id": "zCF7vFvublgE",
        "outputId": "893e25cb-e406-4b61-db34-7a95c608e47d"
      },
      "outputs": [
        {
          "name": "stdout",
          "output_type": "stream",
          "text": [
            "i am your 1st function...\n"
          ]
        }
      ],
      "source": [
        "#fuctions\n",
        "def fname():\n",
        "    print(\"i am your 1st function...\")\n",
        "fname()"
      ]
    },
    {
      "cell_type": "code",
      "execution_count": null,
      "metadata": {
        "colab": {
          "base_uri": "https://localhost:8080/"
        },
        "id": "kPeqFcxEcVuk",
        "outputId": "1e32bcc4-3345-4ba5-e38d-b5f3498b9589"
      },
      "outputs": [
        {
          "name": "stdout",
          "output_type": "stream",
          "text": [
            "i am your 1st function...\n",
            "success\n"
          ]
        }
      ],
      "source": [
        "def fname():\n",
        "    print(\"i am your 1st function...\")\n",
        "    retVal =\"success\"\n",
        "    return retVal\n",
        "status = fname()\n",
        "print(status)\n"
      ]
    },
    {
      "cell_type": "code",
      "execution_count": null,
      "metadata": {
        "colab": {
          "base_uri": "https://localhost:8080/"
        },
        "id": "qEfX4bbNdUSW",
        "outputId": "4a736ff1-d8ec-4276-b30e-18f822674f86"
      },
      "outputs": [
        {
          "name": "stdout",
          "output_type": "stream",
          "text": [
            "i am your 1st function...\n",
            "success True\n"
          ]
        }
      ],
      "source": [
        "def fname():\n",
        "    print(\"i am your 1st function...\")\n",
        "    retVal =\"success\"\n",
        "    return retVal, True\n",
        "status, flag = fname()\n",
        "print(status, flag)\n",
        "\n"
      ]
    },
    {
      "cell_type": "code",
      "execution_count": null,
      "metadata": {
        "colab": {
          "base_uri": "https://localhost:8080/"
        },
        "id": "YELyo4iAd5e4",
        "outputId": "f9e95df4-cf8f-402b-d605-7171a7fb106a"
      },
      "outputs": [
        {
          "name": "stdout",
          "output_type": "stream",
          "text": [
            "i am your 1st function... debolina\n",
            "success True\n"
          ]
        }
      ],
      "source": [
        "def fname(n):\n",
        "    print(\"i am your 1st function...\",n)\n",
        "    retVal =\"success\"\n",
        "    return retVal, True\n",
        "name =\"debolina\"\n",
        "status, flag = fname(name) # flag is used for returning multiple values\n",
        "print(status, flag)\n"
      ]
    },
    {
      "cell_type": "code",
      "execution_count": null,
      "metadata": {
        "id": "Zsa5YyNfjeLQ"
      },
      "outputs": [],
      "source": [
        "file = open(\"sample.txt\",\"w+\")#(or w) #predefined func open\n",
        "file.write(\"This is my 1st line to file from python\")\n",
        "file.close()\n"
      ]
    },
    {
      "cell_type": "code",
      "execution_count": null,
      "metadata": {
        "colab": {
          "base_uri": "https://localhost:8080/",
          "height": 36
        },
        "id": "r-oKl9kRcoIc",
        "outputId": "afaf85b0-52cb-4104-eb4c-1689f02ff439"
      },
      "outputs": [
        {
          "data": {
            "application/vnd.google.colaboratory.intrinsic+json": {
              "type": "string"
            },
            "text/plain": [
              "'this is my 1st line to file from python\\n'"
            ]
          },
          "execution_count": 21,
          "metadata": {},
          "output_type": "execute_result"
        }
      ],
      "source": [
        "file = open(\"sample.txt\",\"r+\")\n",
        "file.readline()"
      ]
    },
    {
      "cell_type": "code",
      "execution_count": null,
      "metadata": {
        "colab": {
          "base_uri": "https://localhost:8080/"
        },
        "id": "XYi1J2zHdBiV",
        "outputId": "2e13dfc3-1351-41e8-9bcb-3a79775f138a"
      },
      "outputs": [
        {
          "data": {
            "text/plain": [
              "['this is my 1st line to file from python\\n',\n",
              " 'this is my 1st line to file from python\\n',\n",
              " 'this is my 1st line to file from python\\n',\n",
              " 'this is my 1st line to file from python\\n']"
            ]
          },
          "execution_count": 22,
          "metadata": {},
          "output_type": "execute_result"
        }
      ],
      "source": [
        "file.readlines()"
      ]
    },
    {
      "cell_type": "code",
      "execution_count": null,
      "metadata": {
        "colab": {
          "base_uri": "https://localhost:8080/"
        },
        "id": "TfMjUwtAd0U3",
        "outputId": "28a82472-b4a1-4f76-93c7-34104382e6fa"
      },
      "outputs": [
        {
          "data": {
            "text/plain": [
              "89"
            ]
          },
          "execution_count": 14,
          "metadata": {},
          "output_type": "execute_result"
        }
      ],
      "source": [
        "# write a fuction in python that accepts your details and save it into file with your name ..........\n",
        "file = open(\"debolina.txt\",\"w+\")\n",
        "file.write(\" Name: DEBOLINA CHATTERJEE\\n Register No: 23122112\\n Class:1MScDSB\\n Favourite Person: HALUM\")\n",
        "file.close()"
      ]
    },
    {
      "cell_type": "code",
      "execution_count": null,
      "metadata": {
        "id": "Kt4y6-SZi-WS"
      },
      "outputs": [],
      "source": [
        "file.close()"
      ]
    },
    {
      "cell_type": "code",
      "execution_count": null,
      "metadata": {
        "colab": {
          "base_uri": "https://localhost:8080/"
        },
        "id": "LZmK4xeV1MLY",
        "outputId": "8bab9ed4-7233-40f1-f0c4-d12a2ade2f52"
      },
      "outputs": [
        {
          "name": "stdout",
          "output_type": "stream",
          "text": [
            "Enter your Name: debolina\n",
            "Enter your Email: debolinaoli10@gmail.com\n",
            "Enter your Phone No: 8945513808\n"
          ]
        }
      ],
      "source": [
        "def saveDetails(Name ,Email, Phone):\n",
        "   filename = Name + \".txt\"\n",
        "   with open(\"filename.txt\",\"w+\")as file:\n",
        "      file.write(\"Name\\t:\\t\"+ Name)\n",
        "      file.write(\"\\nEmail\\t:\\t\"+ Email)\n",
        "      file.write(\"\\nPhone\\t:\\t\"+ Phone)\n",
        "user_name  = input(\"Enter your Name: \")\n",
        "user_email = input(\"Enter your Email: \")\n",
        "user_phone = input(\"Enter your Phone No: \")\n",
        "saveDetails(user_name,  user_email, user_phone)"
      ]
    },
    {
      "cell_type": "code",
      "execution_count": null,
      "metadata": {
        "id": "4-_LXdLs2CiS"
      },
      "outputs": [],
      "source": [
        "#write a python program that will take two operands and an operator and performs the calculation and gives the result. also save he calculations that your program performs in a file\n",
        " def saveDetails(operand 1, operand 2):\n",
        "  filename = operand + \".txt\"\n",
        "  with open(\"filename.txt\" , \"w+\")\n",
        "       file.write(\"operator 1\\t:\\t\"+ operand 1)\n",
        "       file.write(\"operator 2\\t:\\t\"+ operator 2)\n",
        "user_name = input(\"enter 1st operand\")"
      ]
    },
    {
      "cell_type": "code",
      "execution_count": null,
      "metadata": {
        "colab": {
          "base_uri": "https://localhost:8080/"
        },
        "id": "j-Lf38J8bBJ9",
        "outputId": "0618bbf5-455a-45c7-adba-b4034e291c86"
      },
      "outputs": [
        {
          "name": "stdout",
          "output_type": "stream",
          "text": [
            "0 0\n",
            "1 1\n",
            "2 4\n",
            "3 9\n",
            "4 16\n",
            "5 25\n",
            "6 36\n"
          ]
        }
      ],
      "source": [
        " a = 0\n",
        " while a < 7:\n",
        "  res = a * a\n",
        "  print(a,res)\n",
        "  a =  a+ 1 # here 1 means gapping."
      ]
    },
    {
      "cell_type": "code",
      "execution_count": null,
      "metadata": {
        "colab": {
          "base_uri": "https://localhost:8080/"
        },
        "id": "KCewROGDdCon",
        "outputId": "9db2952d-98a3-4bb6-e3d2-430279799ac9"
      },
      "outputs": [
        {
          "name": "stdout",
          "output_type": "stream",
          "text": [
            "1\n",
            "2\n",
            "3\n",
            "4\n",
            "5\n",
            "6\n",
            "7\n",
            "8\n"
          ]
        }
      ],
      "source": [
        "for i in range(1,10,1):\n",
        "    if i ==9:\n",
        "       break\n",
        "    print(i)"
      ]
    },
    {
      "cell_type": "code",
      "execution_count": null,
      "metadata": {
        "colab": {
          "base_uri": "https://localhost:8080/"
        },
        "id": "yLK6nd3VeRR-",
        "outputId": "b9e83838-6f17-40d8-f1a6-e3f2b2a4aa66"
      },
      "outputs": [
        {
          "name": "stdout",
          "output_type": "stream",
          "text": [
            "1\n",
            "2\n",
            "3\n",
            "4\n",
            "5\n",
            "7\n",
            "8\n",
            "9\n"
          ]
        }
      ],
      "source": [
        "for i in range(1,10,1):\n",
        "    if i ==6:\n",
        "       continue\n",
        "    print(i)"
      ]
    },
    {
      "cell_type": "code",
      "execution_count": null,
      "metadata": {
        "colab": {
          "base_uri": "https://localhost:8080/"
        },
        "id": "GivFaluIfJx6",
        "outputId": "227140df-ae77-4a10-d8f9-ad4c9f65f5e8"
      },
      "outputs": [
        {
          "name": "stdout",
          "output_type": "stream",
          "text": [
            "['abx', 'yuyt', 'abc', 'abc', 'yui']\n",
            "{'abc', 'yui', 'yuyt', 'abx'}\n"
          ]
        }
      ],
      "source": [
        "listex = [\"abx\",\"yuyt\",\"abc\",\"abc\",\"yui\"]\n",
        "setex = set(listex)\n",
        "print(listex)\n",
        "print(setex)"
      ]
    },
    {
      "cell_type": "code",
      "execution_count": null,
      "metadata": {
        "colab": {
          "base_uri": "https://localhost:8080/"
        },
        "id": "IMfounZMgOss",
        "outputId": "434fe4ac-83be-4141-e89e-4ea6cb4ddc5e"
      },
      "outputs": [
        {
          "name": "stdout",
          "output_type": "stream",
          "text": [
            "['abx', 'yuyt', 'abc', 'abc', 'yui']\n",
            "{'abc', 'yui', 'yuyt', 'abx'}\n",
            "['abc', 'yui', 'yuyt', 'abx']\n",
            "<class 'list'>\n",
            "<class 'set'>\n",
            "<class 'list'>\n"
          ]
        }
      ],
      "source": [
        "\n",
        "listex = [\"abx\",\"yuyt\",\"abc\",\"abc\",\"yui\"]\n",
        "setex = set(listex)\n",
        "back = list(setex)\n",
        "print(listex)\n",
        "print(setex)\n",
        "print(back)\n",
        "print(type(listex))\n",
        "print(type(setex))\n",
        "print(type(back))\n"
      ]
    },
    {
      "cell_type": "code",
      "execution_count": null,
      "metadata": {
        "colab": {
          "base_uri": "https://localhost:8080/"
        },
        "id": "BqgvXDHjhdc3",
        "outputId": "f51bb5fd-f48a-476f-da9e-1b51cb24c0eb"
      },
      "outputs": [
        {
          "name": "stdout",
          "output_type": "stream",
          "text": [
            "{'tina', 'priya', 'trina', 'oli'}\n"
          ]
        }
      ],
      "source": [
        "# create a list of names that are random and repeating identify the unique items and their counts.\n",
        "listex =[\"oli\",\"priya\",\"tina\",\"trina\",\"oli\"]\n",
        "setex= set(listex)\n",
        "print(setex)\n"
      ]
    },
    {
      "cell_type": "code",
      "execution_count": null,
      "metadata": {
        "id": "k_-0EJQIkobd"
      },
      "outputs": [],
      "source": [
        "# create a list of names that are random and repeating identify the unique items and their counts.\n",
        "pic(phone)\n"
      ]
    },
    {
      "cell_type": "code",
      "execution_count": null,
      "metadata": {
        "colab": {
          "base_uri": "https://localhost:8080/"
        },
        "id": "IMVURzFe3q4I",
        "outputId": "ce377d46-e0ec-4497-e89f-c3c79a5ccd98"
      },
      "outputs": [
        {
          "name": "stdout",
          "output_type": "stream",
          "text": [
            "debolina chatterjee\n"
          ]
        }
      ],
      "source": [
        "my_dict = {\n",
        "    \"name\": \"debolina chatterjee\",\n",
        "    \"phone\": 8955513808,\n",
        "    \"email\": \"debolina.oli@gmail.com\",\n",
        "}\n",
        "print(my_dict[\"name\"])"
      ]
    },
    {
      "cell_type": "code",
      "execution_count": null,
      "metadata": {
        "colab": {
          "base_uri": "https://localhost:8080/"
        },
        "id": "2HXdGFey33ME",
        "outputId": "2b3d1c87-1d05-4f9e-f861-39e6605590db"
      },
      "outputs": [
        {
          "name": "stdout",
          "output_type": "stream",
          "text": [
            "{'name': 'debolina', 'phone': 8955513808, 'email': 'debolina.oli@gmail.com'}\n"
          ]
        }
      ],
      "source": [
        "my_dict[\"name\"] = \"debolina\"\n",
        "print(my_dict)"
      ]
    },
    {
      "cell_type": "code",
      "execution_count": null,
      "metadata": {
        "colab": {
          "base_uri": "https://localhost:8080/"
        },
        "id": "7ev_u4693_Yx",
        "outputId": "d46951a2-bcec-4b45-feda-5785370526b7"
      },
      "outputs": [
        {
          "name": "stdout",
          "output_type": "stream",
          "text": [
            "{'name': 'debolina', 'phone': 8955513808, 'email': 'debolina.oli@gmail.com', 'address': 'Christ university'}\n"
          ]
        }
      ],
      "source": [
        "my_dict[\"address\"] = \"Christ university\"\n",
        "print(my_dict)"
      ]
    },
    {
      "cell_type": "code",
      "execution_count": null,
      "metadata": {
        "colab": {
          "base_uri": "https://localhost:8080/",
          "height": 175
        },
        "id": "yWZityco4Jc9",
        "outputId": "a3f116c3-908c-4b20-9ef7-3719399764b3"
      },
      "outputs": [
        {
          "ename": "KeyError",
          "evalue": "ignored",
          "output_type": "error",
          "traceback": [
            "\u001b[0;31m---------------------------------------------------------------------------\u001b[0m",
            "\u001b[0;31mKeyError\u001b[0m                                  Traceback (most recent call last)",
            "\u001b[0;32m<ipython-input-5-b4aa8d0df94c>\u001b[0m in \u001b[0;36m<cell line: 1>\u001b[0;34m()\u001b[0m\n\u001b[0;32m----> 1\u001b[0;31m \u001b[0mprint\u001b[0m\u001b[0;34m(\u001b[0m\u001b[0mmy_dict\u001b[0m\u001b[0;34m[\u001b[0m\u001b[0;34m\"kfjnr\"\u001b[0m\u001b[0;34m]\u001b[0m\u001b[0;34m)\u001b[0m      \u001b[0;31m#keyerror debe jeta list e thkbe na seta put korle\u001b[0m\u001b[0;34m\u001b[0m\u001b[0;34m\u001b[0m\u001b[0m\n\u001b[0m",
            "\u001b[0;31mKeyError\u001b[0m: 'kfjnr'"
          ]
        }
      ],
      "source": [
        "\n",
        "print(my_dict[\"kfjnr\"])      #keyerror debe jeta list e thkbe na seta put korle"
      ]
    },
    {
      "cell_type": "code",
      "execution_count": null,
      "metadata": {
        "colab": {
          "base_uri": "https://localhost:8080/"
        },
        "id": "qhpZ3gUm4PJW",
        "outputId": "1e9e75f9-0553-460e-9f5a-ea6cb7847e64"
      },
      "outputs": [
        {
          "data": {
            "text/plain": [
              "dict_keys(['name', 'phone', 'email', 'address'])"
            ]
          },
          "execution_count": 6,
          "metadata": {},
          "output_type": "execute_result"
        }
      ],
      "source": [
        "my_dict.keys()"
      ]
    },
    {
      "cell_type": "code",
      "execution_count": null,
      "metadata": {
        "colab": {
          "base_uri": "https://localhost:8080/"
        },
        "id": "LFWPf9Je4X30",
        "outputId": "02be7bbc-5f1b-43bf-953d-ca4b1c518e21"
      },
      "outputs": [
        {
          "name": "stdout",
          "output_type": "stream",
          "text": [
            "dict_keys(['name', 'phone', 'email', 'address'])\n",
            "name\n",
            "phone\n",
            "email\n",
            "address\n"
          ]
        }
      ],
      "source": [
        "print(my_dict.keys())\n",
        "for key in my_dict.keys():   # use it for separating keys in different line\n",
        "    print(key)"
      ]
    },
    {
      "cell_type": "code",
      "execution_count": null,
      "metadata": {
        "colab": {
          "base_uri": "https://localhost:8080/"
        },
        "id": "Kgi_c2UP4Z5t",
        "outputId": "f28cc7e5-ec0f-45b6-9a80-243954972931"
      },
      "outputs": [
        {
          "data": {
            "text/plain": [
              "dict_values(['debolina', 8955513808, 'debolina.oli@gmail.com', 'Christ university'])"
            ]
          },
          "execution_count": 8,
          "metadata": {},
          "output_type": "execute_result"
        }
      ],
      "source": [
        "my_dict.values()"
      ]
    },
    {
      "cell_type": "code",
      "execution_count": null,
      "metadata": {
        "colab": {
          "base_uri": "https://localhost:8080/"
        },
        "id": "EL8it2A85NGv",
        "outputId": "df8775fe-24b2-4b73-f4f3-f4351a3c7d24"
      },
      "outputs": [
        {
          "name": "stdout",
          "output_type": "stream",
          "text": [
            "debolina\n",
            "rai\n",
            "tarun\n"
          ]
        }
      ],
      "source": [
        "students = {\n",
        "       \"names\": [\"debolina\",\"rai\",\"tarun\"],\n",
        "       \"roll no\":[1,2,3],\n",
        "}\n",
        "for name in students[\"names\"]: #uses for different lines ouput\n",
        "    print(name)"
      ]
    },
    {
      "cell_type": "code",
      "execution_count": null,
      "metadata": {
        "colab": {
          "base_uri": "https://localhost:8080/"
        },
        "id": "NWoZnMrW5UiC",
        "outputId": "aea45038-705e-4ec9-9af4-e7f1cc6b31b1"
      },
      "outputs": [
        {
          "name": "stdout",
          "output_type": "stream",
          "text": [
            "tarun\n"
          ]
        }
      ],
      "source": [
        "students = {\n",
        "       \"names\": [\"debolina\",\"rai\",\"tarun\"],\n",
        "       \"roll no\":[1,2,3],\n",
        "}\n",
        "# for name in students[\"names\"]: #uses for different lines ouput\n",
        "\n",
        "# print(name)\n",
        "print(students[\"names\"][2])\n"
      ]
    },
    {
      "cell_type": "code",
      "execution_count": null,
      "metadata": {
        "colab": {
          "base_uri": "https://localhost:8080/"
        },
        "id": "50TZNb0V5aB9",
        "outputId": "341c81c5-fd01-499a-cbd9-83f154a6c853"
      },
      "outputs": [
        {
          "name": "stdout",
          "output_type": "stream",
          "text": [
            "debolina\t564\t9088757667\t\n",
            "oli\t504\t9088757667\t\n",
            "debo\t509\t9088757667\t\n"
          ]
        }
      ],
      "source": [
        "\n",
        "mscdsb = [\n",
        "    {\n",
        "        \"name\":\"debolina\",\n",
        "        \"roll\":564,\n",
        "        \"phone\": 9088757667\n",
        "    },\n",
        "    {\n",
        "        \"name\":\"oli\",\n",
        "        \"roll\":504,\n",
        "        \"phone\": 9088757667\n",
        "    },\n",
        "    {\n",
        "        \"name\":\"debo\",\n",
        "        \"roll\":509,\n",
        "        \"phone\": 9088757667\n",
        "    },\n",
        "]\n",
        "for student in mscdsb:\n",
        "    # print(student)\n",
        "    for key in student.keys():\n",
        "        print(student[key],end =\"\\t\")\n",
        "    print()\n"
      ]
    },
    {
      "cell_type": "code",
      "execution_count": null,
      "metadata": {
        "colab": {
          "base_uri": "https://localhost:8080/"
        },
        "id": "V3vI0WbQ84F7",
        "outputId": "9646ce62-7bd9-47df-f0a5-0b0a9133064f"
      },
      "outputs": [
        {
          "name": "stdout",
          "output_type": "stream",
          "text": [
            "{'name': 'debolina', 'roll': 564, 'phone': 9088757667}\n",
            "debolina\t564\t9088757667\t\n",
            "{'name': 'oli', 'roll': 504, 'phone': 9088757667}\n",
            "oli\t504\t9088757667\t\n",
            "{'name': 'debo', 'roll': 509, 'phone': 9088757667}\n",
            "debo\t509\t9088757667\t\n"
          ]
        }
      ],
      "source": [
        "\n",
        "mscdsb = [\n",
        "    {\n",
        "        \"name\":\"debolina\",\n",
        "        \"roll\":564,\n",
        "        \"phone\": 9088757667\n",
        "    },\n",
        "    {\n",
        "        \"name\":\"oli\",\n",
        "        \"roll\":504,\n",
        "        \"phone\": 9088757667\n",
        "    },\n",
        "    {\n",
        "        \"name\":\"debo\",\n",
        "        \"roll\":509,\n",
        "        \"phone\": 9088757667\n",
        "    },\n",
        "]\n",
        "for student in mscdsb:\n",
        "    print(student)\n",
        "    for key in student.keys():\n",
        "        print(student[key],end =\"\\t\")\n",
        "    print()\n"
      ]
    },
    {
      "cell_type": "code",
      "execution_count": null,
      "metadata": {
        "colab": {
          "base_uri": "https://localhost:8080/"
        },
        "id": "i3kDykQM9HYP",
        "outputId": "736a74bc-e45e-4987-94d1-5fdb3464d625"
      },
      "outputs": [
        {
          "name": "stdout",
          "output_type": "stream",
          "text": [
            "[1, 3, 4]\n"
          ]
        }
      ],
      "source": [
        "my_list = [1,2,3]\n",
        "my_list.append(4)\n",
        "my_list.remove(2)\n",
        "print(my_list)"
      ]
    },
    {
      "cell_type": "code",
      "execution_count": null,
      "metadata": {
        "colab": {
          "base_uri": "https://localhost:8080/"
        },
        "id": "fqF6UD6h9hVW",
        "outputId": "cb279547-eefa-4049-990f-defa755290c1"
      },
      "outputs": [
        {
          "name": "stdout",
          "output_type": "stream",
          "text": [
            "1\n",
            "2\n",
            "3\n",
            "4\n",
            "5\n",
            "6\n",
            "7\n",
            "8\n",
            "9\n",
            "10\n"
          ]
        }
      ],
      "source": [
        "a = 0\n",
        "while a < 10:\n",
        " a = a + 1\n",
        " print(a)"
      ]
    },
    {
      "cell_type": "code",
      "execution_count": null,
      "metadata": {
        "colab": {
          "base_uri": "https://localhost:8080/"
        },
        "id": "Bd_9OFUF9hQg",
        "outputId": "51a0921c-2394-49d7-9515-ddce79f5fd06"
      },
      "outputs": [
        {
          "name": "stdout",
          "output_type": "stream",
          "text": [
            "{'oli': 59, 'Babai': 38, 'Mona': 4}\n"
          ]
        }
      ],
      "source": [
        "# vijesh sir google form exam\n",
        "import random\n",
        "\n",
        "student_grades = {\n",
        "    \"oli\": random.randint(0, 100),\n",
        "    \"Babai\": random.randint(0, 100),\n",
        "    \"Mona\": random.randint(0, 100)\n",
        "}\n",
        "\n",
        "print(student_grades)"
      ]
    },
    {
      "cell_type": "code",
      "execution_count": null,
      "metadata": {
        "colab": {
          "base_uri": "https://localhost:8080/"
        },
        "id": "hZ5gJKCx9hN-",
        "outputId": "a3601c5f-d7ff-47c1-dcff-f81291d3cae3"
      },
      "outputs": [
        {
          "name": "stdout",
          "output_type": "stream",
          "text": [
            "The sum of all numbers from 1 to 100 is: 5050\n"
          ]
        }
      ],
      "source": [
        "\n",
        "total_sum = 0\n",
        "for number in range(1, 101):\n",
        "    total_sum += number\n",
        "print(\"The sum of all numbers from 1 to 100 is:\",total_sum)"
      ]
    },
    {
      "cell_type": "code",
      "execution_count": null,
      "metadata": {
        "colab": {
          "base_uri": "https://localhost:8080/"
        },
        "id": "a44iwxT09hLp",
        "outputId": "4cb53194-7510-4751-aa92-e6905883db46"
      },
      "outputs": [
        {
          "name": "stdout",
          "output_type": "stream",
          "text": [
            "[2, 4, 6, 8, 10]\n"
          ]
        }
      ],
      "source": [
        "def filter_even_numbers(input_list):\n",
        "    even_numbers = []\n",
        "    for num in input_list:\n",
        "        if num % 2 == 0:\n",
        "            even_numbers.append(num)\n",
        "    return even_numbers\n",
        "\n",
        "input_list = [1, 2, 3, 4, 5, 6, 7, 8, 9, 10]\n",
        "result = filter_even_numbers(input_list)\n",
        "print(result)"
      ]
    },
    {
      "cell_type": "code",
      "execution_count": null,
      "metadata": {
        "id": "kffBzNhI9hI_"
      },
      "outputs": [],
      "source": []
    },
    {
      "cell_type": "code",
      "execution_count": null,
      "metadata": {
        "id": "ucsCyg0d9hGE"
      },
      "outputs": [],
      "source": []
    },
    {
      "cell_type": "code",
      "execution_count": null,
      "metadata": {
        "id": "sMcFALQe9hDh"
      },
      "outputs": [],
      "source": []
    },
    {
      "cell_type": "code",
      "execution_count": null,
      "metadata": {
        "id": "HHKgHh0K9hAy"
      },
      "outputs": [],
      "source": []
    },
    {
      "cell_type": "code",
      "execution_count": null,
      "metadata": {
        "id": "peKzBC7b9g-G"
      },
      "outputs": [],
      "source": []
    },
    {
      "cell_type": "code",
      "execution_count": null,
      "metadata": {
        "id": "QR_zW9m69g7l"
      },
      "outputs": [],
      "source": []
    },
    {
      "cell_type": "code",
      "execution_count": null,
      "metadata": {
        "id": "qihbgg1D9g4z"
      },
      "outputs": [],
      "source": []
    },
    {
      "cell_type": "code",
      "execution_count": null,
      "metadata": {
        "id": "wQ5L3FmW9g2K"
      },
      "outputs": [],
      "source": []
    },
    {
      "cell_type": "code",
      "execution_count": null,
      "metadata": {
        "id": "SUvVgNI09gzs"
      },
      "outputs": [],
      "source": []
    },
    {
      "cell_type": "code",
      "execution_count": null,
      "metadata": {
        "id": "J8q9iQ_g9gxL"
      },
      "outputs": [],
      "source": []
    },
    {
      "cell_type": "code",
      "execution_count": null,
      "metadata": {
        "id": "ol_hJEn29guS"
      },
      "outputs": [],
      "source": []
    },
    {
      "cell_type": "code",
      "execution_count": null,
      "metadata": {
        "id": "lFx4LnmB9grb"
      },
      "outputs": [],
      "source": []
    },
    {
      "cell_type": "code",
      "execution_count": null,
      "metadata": {
        "id": "wOS-Vdcc9goU"
      },
      "outputs": [],
      "source": []
    },
    {
      "cell_type": "code",
      "execution_count": null,
      "metadata": {
        "id": "aOLXsLYF9gko"
      },
      "outputs": [],
      "source": []
    },
    {
      "cell_type": "code",
      "execution_count": null,
      "metadata": {
        "id": "lb_ABzXi9ghd"
      },
      "outputs": [],
      "source": []
    }
  ],
  "metadata": {
    "colab": {
      "provenance": []
    },
    "kernelspec": {
      "display_name": "Python 3",
      "name": "python3"
    },
    "language_info": {
      "name": "python"
    }
  },
  "nbformat": 4,
  "nbformat_minor": 0
}
