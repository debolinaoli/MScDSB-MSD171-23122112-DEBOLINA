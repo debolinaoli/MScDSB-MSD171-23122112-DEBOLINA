{
 "cells": [
  {
   "cell_type": "code",
   "execution_count": 42,
   "metadata": {},
   "outputs": [],
   "source": [
    "# resturant\n",
    "# customers -> orders (menu items)\n",
    "# collecting orders\n",
    "# billing\n",
    "# print bill\n",
    "# update order\n",
    "# search for an order"
   ]
  },
  {
   "cell_type": "code",
   "execution_count": 1,
   "metadata": {},
   "outputs": [
    {
     "name": "stdout",
     "output_type": "stream",
     "text": [
      "the current options in the menus are:\n",
      "******************************\n",
      "{'rice': 30, 'idli': 50}\n",
      "******************************\n",
      "{'32323': {'phone': '7875689966', 'order': {'Rice': 45}}}\n"
     ]
    }
   ],
   "source": [
    "import random\n",
    "class resturant:\n",
    "    def __init__(self):\n",
    "        self.menu = {\n",
    "    \"rice\" :30,\n",
    "    \"idli\": 50\n",
    "}\n",
    "        # order id : set of order details\n",
    "        self.orders = {}\n",
    "\n",
    "    def printmenu(self):\n",
    "        print (\"the current options in the menus are:\")\n",
    "        print(\"*\"*30)\n",
    "        print(self.menu)\n",
    "        print(\"*\"*30)\n",
    "    def generteorderid(self):\n",
    "        orderid = \"\"\n",
    "        for i in range(1,6,1):\n",
    "            orderid += str(random.randint(1,10))  \n",
    "        return orderid\n",
    "\n",
    "    def collectorder(self):\n",
    "        self.printmenu() # print menu\n",
    "        phone = input(\"enter the number of the customer: \")\n",
    "        order = {}\n",
    "        while True:\n",
    "            item =  input(\"enter the item name you want to order : \").strip().title()\n",
    "            qty =  int(input(\"enter the quantity of the item: \")) \n",
    "            order[item] = qty\n",
    "            choice = input(\"do you want to complete order? \").strip().upper()\n",
    "            if choice == 'Y':\n",
    "                break\n",
    "        orderid = self.generteorderid()\n",
    "        self.orders[orderid] = {\n",
    "            \"phone\" : phone,\n",
    "            \"order\": order\n",
    "        }\n",
    "\n",
    "        print(self.orders)\n",
    "\n",
    "cftb = resturant()\n",
    "\n",
    "cftb.collectorder()"
   ]
  }
 ],
 "metadata": {
  "kernelspec": {
   "display_name": "Python 3",
   "language": "python",
   "name": "python3"
  },
  "language_info": {
   "codemirror_mode": {
    "name": "ipython",
    "version": 3
   },
   "file_extension": ".py",
   "mimetype": "text/x-python",
   "name": "python",
   "nbconvert_exporter": "python",
   "pygments_lexer": "ipython3",
   "version": "3.11.4"
  },
  "orig_nbformat": 4
 },
 "nbformat": 4,
 "nbformat_minor": 2
}
