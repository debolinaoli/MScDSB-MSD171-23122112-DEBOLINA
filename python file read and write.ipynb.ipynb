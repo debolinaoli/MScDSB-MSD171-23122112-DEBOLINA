{
 "cells": [
  {
   "cell_type": "code",
   "execution_count": 1,
   "metadata": {},
   "outputs": [],
   "source": [
    "file = open(\"sample.txt\",\"w+\") #predefined func open\n",
    "file.write(\"This is my 1st line to file from python\")\n",
    "file.close()\n"
   ]
  },
  {
   "cell_type": "code",
   "execution_count": 4,
   "metadata": {},
   "outputs": [],
   "source": [
    "# or\n",
    "file = open(\"sample.txt\",\"w\")              #predefined func open\n",
    "file.write(\"This is my 1st line to file from python\")\n",
    "file.close()\n"
   ]
  },
  {
   "cell_type": "code",
   "execution_count": 1,
   "metadata": {},
   "outputs": [],
   "source": [
    "# or \n",
    "with open(\"sampl.txt\",\"w\") as f:\n",
    "    f.write(\"create a new text file\")\n",
    "    f.close()"
   ]
  },
  {
   "cell_type": "code",
   "execution_count": 9,
   "metadata": {},
   "outputs": [],
   "source": [
    "# or \n",
    "with open(\"hi.txt\",\"w+\") as f:\n",
    "    f.write(\"create a new twxt file\")\n",
    "    f.close()"
   ]
  },
  {
   "cell_type": "code",
   "execution_count": 17,
   "metadata": {},
   "outputs": [
    {
     "data": {
      "text/plain": [
       "'This is my 1st line to file from python'"
      ]
     },
     "execution_count": 17,
     "metadata": {},
     "output_type": "execute_result"
    }
   ],
   "source": [
    "file = open(\"sample.txt\",\"w+\")#(or w) #predefined func open\n",
    "file.write(\"This is my 1st line to file from python\")\n",
    "file.close()\n",
    "file = open(\"sample.txt\",\"r+\")\n",
    "file.readline()"
   ]
  },
  {
   "cell_type": "code",
   "execution_count": 16,
   "metadata": {},
   "outputs": [
    {
     "name": "stdout",
     "output_type": "stream",
     "text": [
      "create a new text file\n"
     ]
    }
   ],
   "source": [
    "# or \n",
    "with open(\"sampl.txt\",\"w\") as f:\n",
    "    f.write(\"create a new text file\")\n",
    "    f.close()\n",
    "with open(\"sampl.txt\",\"r\") as f:\n",
    "    print(f.read())\n"
   ]
  }
 ],
 "metadata": {
  "kernelspec": {
   "display_name": "Python 3",
   "language": "python",
   "name": "python3"
  },
  "language_info": {
   "codemirror_mode": {
    "name": "ipython",
    "version": 3
   },
   "file_extension": ".py",
   "mimetype": "text/x-python",
   "name": "python",
   "nbconvert_exporter": "python",
   "pygments_lexer": "ipython3",
   "version": "3.11.4"
  },
  "orig_nbformat": 4
 },
 "nbformat": 4,
 "nbformat_minor": 2
}
