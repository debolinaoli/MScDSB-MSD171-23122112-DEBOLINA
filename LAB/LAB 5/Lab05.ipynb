{
 "cells": [
  {
   "cell_type": "code",
   "execution_count": 14,
   "metadata": {},
   "outputs": [
    {
     "name": "stdout",
     "output_type": "stream",
     "text": [
      "Total vowels: 3\n",
      "i: 1\n",
      "a: 2\n",
      "Percentage of vowels: 30.0 %\n"
     ]
    }
   ],
   "source": [
    "# Input a string from the user and convert it to lowercase\n",
    "user_input = input(\"Enter a string: \").lower()\n",
    "\n",
    "# Initialize vowel counts and total count by using {} for function and class definition\n",
    "vowel_count = {}\n",
    "total_vowels = 0\n",
    "\n",
    "# Define a set of vowels\n",
    "vowels = set(\"aeiou\")\n",
    "\n",
    "# Loop through the input string and count vowels using basic functions\n",
    "for char in user_input:\n",
    "    if char in vowels:\n",
    "        if char in vowel_count:\n",
    "            vowel_count[char] += 1\n",
    "        else:\n",
    "            vowel_count[char] = 1\n",
    "        total_vowels += 1\n",
    "\n",
    "# Calculate the percentage of vowels using basic math\n",
    "percentage_vowels = (total_vowels / len(user_input)) * 100\n",
    "\n",
    "# Print the total count of vowels\n",
    "print(\"Total vowels:\", total_vowels)\n",
    "\n",
    "# Print each vowel and its count without f-strings\n",
    "for vowel, count in vowel_count.items():\n",
    "    if count > 0:\n",
    "        print(vowel + \":\", count)\n",
    "\n",
    "# Print the percentage of vowels in the string without f-strings\n",
    "print(\"Percentage of vowels:\", percentage_vowels, \"%\")"
   ]
  }
 ],
 "metadata": {
  "kernelspec": {
   "display_name": "Python 3",
   "language": "python",
   "name": "python3"
  },
  "language_info": {
   "codemirror_mode": {
    "name": "ipython",
    "version": 3
   },
   "file_extension": ".py",
   "mimetype": "text/x-python",
   "name": "python",
   "nbconvert_exporter": "python",
   "pygments_lexer": "ipython3",
   "version": "3.11.4"
  },
  "orig_nbformat": 4
 },
 "nbformat": 4,
 "nbformat_minor": 2
}
