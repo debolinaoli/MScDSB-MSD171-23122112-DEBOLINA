{
 "cells": [
  {
   "cell_type": "markdown",
   "metadata": {},
   "source": [
    "create a petstore class where you have the details of pets available and their details. the class will have methods-> store a new pet details, serach for a pet, sell a pet,list all pets, importing your petstore class, create a petstoremain file,where you will implement a menu driven program for admin - who will manage the store and user who will see the pets and buy pets................"
   ]
  },
  {
   "cell_type": "code",
   "execution_count": 13,
   "metadata": {},
   "outputs": [
    {
     "name": "stdout",
     "output_type": "stream",
     "text": [
      "{'dogs': [], 'cats': [], 'tiger': [], 'parrot': []}\n"
     ]
    }
   ],
   "source": [
    "class pets:\n",
    "    def __init__(self):\n",
    "       self.petdetails={\n",
    "          \"dogs\":[],\n",
    "          \"cats\":[],\n",
    "          \"tiger\":[],\n",
    "          \"parrot\":[]\n",
    "       }\n",
    "\n",
    "    def store_details(self, kind, breed, colour, weight, age, price):\n",
    "     details = {\n",
    "            \"breed\": breed,\n",
    "            \"kind\": kind,\n",
    "            \"colour\": colour,\n",
    "            \"weight\": weight,\n",
    "            \"age\": age,\n",
    "            \"price\": price\n",
    "        }\n",
    "     self.details[\"breed\"]=self.details[\"breed\"].append(breed)\n",
    "     print(self.petdetails)\n",
    "     self.details[\"kind\"]=self.details[\"kind\"].append(kind)\n",
    "     print(self.petdetails)\n",
    "     self.details[\"colour\"]=self.details[\"colour\"].append(colour)\n",
    "     print(self.petdetails)\n",
    "     self.details[\"weight\"]=self.details[\"weight\"].append(weight)\n",
    "     print(self.petdetails)\n",
    "     self.details[\"age\"]=self.details[\"age\"].append(age)\n",
    "     print(self.petdetails)\n",
    "     self.details[\"price\"]=self.details[\"price\"].append(price)\n",
    "     print(self.petdetails)\n",
    "\n",
    "obj = pets()\n",
    "print(obj.petdetails)          \n"
   ]
  },
  {
   "cell_type": "code",
   "execution_count": 17,
   "metadata": {},
   "outputs": [
    {
     "name": "stdout",
     "output_type": "stream",
     "text": [
      "{'dogs': [], 'cats': [], 'rabbit': [], 'horse': []}\n",
      "{'dogs': [{'breedName': 'abc', 'price': 1000, 'age': 3}], 'cats': [], 'rabbit': [], 'horse': []}\n",
      "{'dogs': [{'breedName': 'abc', 'price': 1000, 'age': 3}, {'breedName': 'efg', 'price': 7000, 'age': 2}], 'cats': [{'breedName': 'hij', 'price': 5000, 'age': 3}], 'rabbit': [], 'horse': []}\n"
     ]
    }
   ],
   "source": [
    "class petstore:\n",
    "    def __init__(self):\n",
    "       self.pets={\n",
    "            \"dogs\":[],\n",
    "            \"cats\":[],\n",
    "            \"rabbit\":[],\n",
    "            \"horse\":[]\n",
    "        }\n",
    "    def storepet(self,type,breedName,price,age):\n",
    "        temp={\n",
    "            \"breedName\":breedName,\n",
    "            \"price\":price,\n",
    "            \"age\":age\n",
    "        }\n",
    "        self.pets[type].append(temp)\n",
    "\n",
    "pets=petstore()\n",
    "\n",
    "print(pets.pets)\n",
    "pets.storepet('dogs','abc',1000,3)\n",
    "print(pets.pets)\n",
    "pets.storepet('dogs','efg',7000,2)\n",
    "pets.storepet('cats','hij',5000,3)\n",
    "print(pets.pets)"
   ]
  },
  {
   "cell_type": "code",
   "execution_count": 19,
   "metadata": {},
   "outputs": [
    {
     "name": "stdout",
     "output_type": "stream",
     "text": [
      "dogs\n",
      "[{'breedName': 'abc', 'price': 1000, 'age': 3}, {'breedName': 'efg', 'price': 7000, 'age': 2}]\n",
      "{'breedName': 'abc', 'price': 1000, 'age': 3}\n",
      "{'breedName': 'efg', 'price': 7000, 'age': 2}\n",
      "cats\n",
      "[{'breedName': 'hij', 'price': 5000, 'age': 3}]\n",
      "{'breedName': 'hij', 'price': 5000, 'age': 3}\n",
      "rabbit\n",
      "[]\n",
      "horse\n",
      "[]\n"
     ]
    }
   ],
   "source": [
    "for pet in pets.pets:\n",
    "    print(pet)\n",
    "    print(pets.pets[pet])\n",
    "    for item in pets.pets[pet]:\n",
    "        print(item)"
   ]
  }
 ],
 "metadata": {
  "kernelspec": {
   "display_name": "Python 3",
   "language": "python",
   "name": "python3"
  },
  "language_info": {
   "codemirror_mode": {
    "name": "ipython",
    "version": 3
   },
   "file_extension": ".py",
   "mimetype": "text/x-python",
   "name": "python",
   "nbconvert_exporter": "python",
   "pygments_lexer": "ipython3",
   "version": "3.11.4"
  }
 },
 "nbformat": 4,
 "nbformat_minor": 2
}
