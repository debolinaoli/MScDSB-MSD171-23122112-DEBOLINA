{
 "cells": [
  {
   "cell_type": "code",
   "execution_count": 1,
   "metadata": {},
   "outputs": [],
   "source": [
    "class Student:\n",
    "    def __init__(self):\n",
    "        self.student_records = {}\n",
    "\n",
    "    def add_student(self, student_id, name, marks):\n",
    "        self.student_records[student_id] = {'name': name, 'marks': marks}\n",
    "\n",
    "    def update_student(self, student_id, name, marks):\n",
    "        if student_id in self.student_records:\n",
    "            self.student_records[student_id] = {'name': name, 'marks': marks}\n",
    "        else:\n",
    "            print(\"Student not found.\")\n",
    "\n",
    "    def delete_student(self, student_id):\n",
    "        if student_id in self.student_records:\n",
    "            del self.student_records[student_id]\n",
    "        else:\n",
    "            print(\"Student not found.\")\n",
    "\n",
    "    def display_students(self):\n",
    "        for student_id, data in self.student_records.items():\n",
    "            print(f\"Student ID: {student_id}\")\n",
    "            print(f\"Name: {data['name']}\")\n",
    "            print(f\"Marks: {data['marks']}\")\n",
    "            print()\n",
    "\n",
    "def main():\n",
    "    student_manager = Student()\n",
    "    while True:\n",
    "        print(\"\\nStudent Management System\")\n",
    "        print(\"1. Add Student\")\n",
    "        print(\"2. Update Student\")\n",
    "        print(\"3. Delete Student\")\n",
    "        print(\"4. Display Students\")\n",
    "        print(\"5. Exit\")\n",
    "        \n",
    "        choice = input(\"Enter your choice: \")\n",
    "        \n",
    "        if choice == '1':\n",
    "            student_id = input(\"Enter Student ID: \")\n",
    "            name = input(\"Enter Student Name: \")\n",
    "            marks = input(\"Enter Student Marks: \")\n",
    "            student_manager.add_student(student_id, name, marks)\n",
    "            print(\"Student added successfully.\")\n",
    "        \n",
    "        elif choice == '2':\n",
    "            student_id = input(\"Enter Student ID to update: \")\n",
    "            name = input(\"Enter Student Name: \")\n",
    "            marks = input(\"Enter Student Marks: \")\n",
    "            student_manager.update_student(student_id, name, marks)\n",
    "        \n",
    "        elif choice == '3':\n",
    "            student_id = input(\"Enter Student ID to delete: \")\n",
    "            student_manager.delete_student(student_id)\n",
    "            print(\"Student deleted successfully.\")\n",
    "        \n",
    "        elif choice == '4':\n",
    "            student_manager.display_students()\n",
    "        \n",
    "        elif choice == '5':\n",
    "            print(\"Exiting the program.\")\n",
    "            break\n",
    "        \n",
    "        else:\n",
    "            print(\"Invalid choice. Please try again.\")\n",
    "\n"
   ]
  },
  {
   "cell_type": "code",
   "execution_count": null,
   "metadata": {},
   "outputs": [],
   "source": [
    "main()"
   ]
  }
 ],
 "metadata": {
  "kernelspec": {
   "display_name": "Python 3",
   "language": "python",
   "name": "python3"
  },
  "language_info": {
   "codemirror_mode": {
    "name": "ipython",
    "version": 3
   },
   "file_extension": ".py",
   "mimetype": "text/x-python",
   "name": "python",
   "nbconvert_exporter": "python",
   "pygments_lexer": "ipython3",
   "version": "3.11.4"
  }
 },
 "nbformat": 4,
 "nbformat_minor": 2
}
