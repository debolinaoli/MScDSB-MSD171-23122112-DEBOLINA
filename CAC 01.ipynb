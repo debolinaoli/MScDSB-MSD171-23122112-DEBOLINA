{
 "cells": [
  {
   "cell_type": "code",
   "execution_count": 14,
   "metadata": {},
   "outputs": [
    {
     "name": "stdout",
     "output_type": "stream",
     "text": [
      "Welcome to the Weather Forecasting Program!\n",
      "\n",
      "Day \t\tWeather\t\tTemperature (°C)\n",
      "1\t\tCloudy\t\t24.7\n",
      "2\t\tCloudy\t\t21.2\n",
      "3\t\tCloudy\t\t23.8\n",
      "4\t\tRainy\t\t16.9\n",
      "5\t\tCloudy\t\t24.0\n",
      "6\t\tRainy\t\t13.8\n",
      "7\t\tCloudy\t\t23.2\n",
      "8\t\tRainy\t\t10.2\n",
      "9\t\tRainy\t\t10.6\n",
      "10\t\tSunny\t\t33.0\n",
      "11\t\tSnowy\t\t-6.1\n",
      "12\t\tSunny\t\t32.5\n",
      "13\t\tSnowy\t\t-7.0\n",
      "14\t\tCloudy\t\t24.6\n",
      "15\t\tRainy\t\t13.7\n",
      "16\t\tRainy\t\t17.1\n",
      "17\t\tCloudy\t\t20.4\n",
      "18\t\tSnowy\t\t-3.4\n",
      "19\t\tRainy\t\t18.7\n",
      "20\t\tCloudy\t\t22.3\n"
     ]
    }
   ],
   "source": [
    "import random\n",
    "\n",
    "weather_conditions = {\n",
    "    \"Sunny\": (27, 35),\n",
    "    \"Cloudy\": (20, 26),\n",
    "    \"Rainy\": (10, 19),\n",
    "    \"Snowy\": (-10, 9)\n",
    "}\n",
    "\n",
    "def get_random_weather():\n",
    "    weather = random.choice(list(weather_conditions.keys()))\n",
    "    temperature_range = weather_conditions[weather]\n",
    "    temperature = round(random.uniform(temperature_range[0], temperature_range[1]), 1)\n",
    "    return weather, temperature\n",
    "\n",
    "def generate_weather_forecast(days):\n",
    "    forecast = []\n",
    "    for day in range(1, days + 1):\n",
    "        weather, temperature = get_random_weather()\n",
    "        forecast.append((day, weather, temperature))\n",
    "    return forecast\n",
    "\n",
    "def display_forecast(forecast):\n",
    "    print(\"Day \\t\\tWeather\\t\\tTemperature (°C)\")\n",
    "    for day, weather, temperature in forecast:\n",
    "        print(f\"{day}\\t\\t{weather}\\t\\t{temperature}\")\n",
    "\n",
    "def main():\n",
    "    print(\"Welcome to the Weather Forecasting Program!\\n\")\n",
    "    \n",
    "    days = int(input(\"Enter the number of days for the forecast: \"))\n",
    "    \n",
    "    if days <= 0:\n",
    "        print(\"Invalid input. Please enter a positive number of days.\")\n",
    "        return\n",
    "    \n",
    "    weather_forecast = generate_weather_forecast(days)\n",
    "    display_forecast(weather_forecast)\n",
    "\n",
    "main()"
   ]
  }
 ],
 "metadata": {
  "kernelspec": {
   "display_name": "Python 3",
   "language": "python",
   "name": "python3"
  },
  "language_info": {
   "codemirror_mode": {
    "name": "ipython",
    "version": 3
   },
   "file_extension": ".py",
   "mimetype": "text/x-python",
   "name": "python",
   "nbconvert_exporter": "python",
   "pygments_lexer": "ipython3",
   "version": "3.11.4"
  },
  "orig_nbformat": 4
 },
 "nbformat": 4,
 "nbformat_minor": 2
}
