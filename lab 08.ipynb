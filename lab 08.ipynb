{
 "cells": [
  {
   "cell_type": "code",
   "execution_count": 59,
   "metadata": {},
   "outputs": [],
   "source": [
    "class stack:\n",
    "\n",
    "    def __init__(self):\n",
    "        self.stack = []\n",
    "    def pushitem(self,item) :\n",
    "        self.stack.append(item)\n",
    "    def popitem(self):\n",
    "        print(self.stack.pop())\n",
    "    def viewstack(self):\n",
    "        print(self.stack)\n",
    "    def size(self):\n",
    "        print(len(self.stack))\n",
    "    def topstack(self):\n",
    "        print(self.stack[-1])\n",
    "    def isempty(self):\n",
    "        print(self.stack == [])\n",
    "    def Menu(self):\n",
    "        while True:\n",
    "             print(\"Menu Options\")\n",
    "             print(\"************************************\")\n",
    "             print(\"1 PushItem\")\n",
    "             print(\"2 PopItem\")\n",
    "             print(\"3 View Full Stack\")\n",
    "             print(\"4 Size of the stack\")\n",
    "             print(\"5 View the top Element of the stack\")\n",
    "             print(\"6 to check the stack is empty or not\")\n",
    "             print(\"7 Exit \")\n",
    "             print(\"************************************\")\n",
    "             choice=int(input(\"Enter your choice: \"))\n",
    "             if choice== 1:\n",
    "                item=int(input(\"Enter: \"))\n",
    "                self.pushitem(item)\n",
    "             elif choice== 2:\n",
    "                self.popitem()\n",
    "             elif choice== 3:\n",
    "                self.viewstack()\n",
    "             elif choice== 4:\n",
    "                self.size()\n",
    "             elif choice== 5:\n",
    "                self.topstack()\n",
    "             elif choice== 6:\n",
    "                self.isempty()\n",
    "             elif choice== 7:\n",
    "                print(\"Thank You\")\n",
    "                break\n",
    "             else:\n",
    "                print(\"Chose a Valid Output\")\n"
   ]
  },
  {
   "cell_type": "code",
   "execution_count": 60,
   "metadata": {},
   "outputs": [],
   "source": [
    "object = stack()"
   ]
  },
  {
   "cell_type": "code",
   "execution_count": 61,
   "metadata": {},
   "outputs": [
    {
     "name": "stdout",
     "output_type": "stream",
     "text": [
      "Menu Options\n",
      "************************************\n",
      "1 PushItem\n",
      "2 PopItem\n",
      "3 View Full Stack\n",
      "4 Size of the stack\n",
      "5 View the top Element of the stack\n",
      "6 to check the stack is empty or not\n",
      "7 Exit \n",
      "************************************\n",
      "Menu Options\n",
      "************************************\n",
      "1 PushItem\n",
      "2 PopItem\n",
      "3 View Full Stack\n",
      "4 Size of the stack\n",
      "5 View the top Element of the stack\n",
      "6 to check the stack is empty or not\n",
      "7 Exit \n",
      "************************************\n"
     ]
    },
    {
     "ename": "ValueError",
     "evalue": "invalid literal for int() with base 10: ''",
     "output_type": "error",
     "traceback": [
      "\u001b[1;31m---------------------------------------------------------------------------\u001b[0m",
      "\u001b[1;31mValueError\u001b[0m                                Traceback (most recent call last)",
      "\u001b[1;32md:\\MScDSB-MSD171-23122112-DEBOLINA\\lab 08.ipynb Cell 3\u001b[0m line \u001b[0;36m1\n\u001b[1;32m----> <a href='vscode-notebook-cell:/d%3A/MScDSB-MSD171-23122112-DEBOLINA/lab%2008.ipynb#X13sZmlsZQ%3D%3D?line=0'>1</a>\u001b[0m \u001b[39mobject\u001b[39;49m\u001b[39m.\u001b[39;49mMenu()\n",
      "\u001b[1;32md:\\MScDSB-MSD171-23122112-DEBOLINA\\lab 08.ipynb Cell 3\u001b[0m line \u001b[0;36m2\n\u001b[0;32m     <a href='vscode-notebook-cell:/d%3A/MScDSB-MSD171-23122112-DEBOLINA/lab%2008.ipynb#X13sZmlsZQ%3D%3D?line=26'>27</a>\u001b[0m \u001b[39mprint\u001b[39m(\u001b[39m\"\u001b[39m\u001b[39m7 Exit \u001b[39m\u001b[39m\"\u001b[39m)\n\u001b[0;32m     <a href='vscode-notebook-cell:/d%3A/MScDSB-MSD171-23122112-DEBOLINA/lab%2008.ipynb#X13sZmlsZQ%3D%3D?line=27'>28</a>\u001b[0m \u001b[39mprint\u001b[39m(\u001b[39m\"\u001b[39m\u001b[39m************************************\u001b[39m\u001b[39m\"\u001b[39m)\n\u001b[1;32m---> <a href='vscode-notebook-cell:/d%3A/MScDSB-MSD171-23122112-DEBOLINA/lab%2008.ipynb#X13sZmlsZQ%3D%3D?line=28'>29</a>\u001b[0m choice\u001b[39m=\u001b[39m\u001b[39mint\u001b[39;49m(\u001b[39minput\u001b[39;49m(\u001b[39m\"\u001b[39;49m\u001b[39mEnter your choice: \u001b[39;49m\u001b[39m\"\u001b[39;49m))\n\u001b[0;32m     <a href='vscode-notebook-cell:/d%3A/MScDSB-MSD171-23122112-DEBOLINA/lab%2008.ipynb#X13sZmlsZQ%3D%3D?line=29'>30</a>\u001b[0m \u001b[39mif\u001b[39;00m choice\u001b[39m==\u001b[39m \u001b[39m1\u001b[39m:\n\u001b[0;32m     <a href='vscode-notebook-cell:/d%3A/MScDSB-MSD171-23122112-DEBOLINA/lab%2008.ipynb#X13sZmlsZQ%3D%3D?line=30'>31</a>\u001b[0m    item\u001b[39m=\u001b[39m\u001b[39mint\u001b[39m(\u001b[39minput\u001b[39m(\u001b[39m\"\u001b[39m\u001b[39mEnter: \u001b[39m\u001b[39m\"\u001b[39m))\n",
      "\u001b[1;31mValueError\u001b[0m: invalid literal for int() with base 10: ''"
     ]
    }
   ],
   "source": [
    "object.Menu()"
   ]
  },
  {
   "cell_type": "code",
   "execution_count": null,
   "metadata": {},
   "outputs": [],
   "source": [
    "object.pushitem(\"debolina\")\n",
    "object.pushitem(\"siddhartha\")\n",
    "object.pushitem(\"swastik\")\n",
    "object.pushitem(\"sukanna\")\n",
    "object.pushitem(\"nilanjana\")"
   ]
  },
  {
   "cell_type": "code",
   "execution_count": null,
   "metadata": {},
   "outputs": [
    {
     "name": "stdout",
     "output_type": "stream",
     "text": [
      "['debolina', 'siddhartha', 'swastik', 'sukanna', 'nilanjana']\n"
     ]
    }
   ],
   "source": [
    "object.viewstack()"
   ]
  },
  {
   "cell_type": "code",
   "execution_count": null,
   "metadata": {},
   "outputs": [
    {
     "name": "stdout",
     "output_type": "stream",
     "text": [
      "nilanjana\n"
     ]
    }
   ],
   "source": [
    "object.popitem()"
   ]
  },
  {
   "cell_type": "code",
   "execution_count": null,
   "metadata": {},
   "outputs": [
    {
     "name": "stdout",
     "output_type": "stream",
     "text": [
      "['debolina', 'siddhartha', 'swastik', 'sukanna']\n"
     ]
    }
   ],
   "source": [
    "object.viewstack()"
   ]
  },
  {
   "cell_type": "code",
   "execution_count": null,
   "metadata": {},
   "outputs": [
    {
     "name": "stdout",
     "output_type": "stream",
     "text": [
      "4\n"
     ]
    }
   ],
   "source": [
    "object.size()"
   ]
  },
  {
   "cell_type": "code",
   "execution_count": null,
   "metadata": {},
   "outputs": [
    {
     "name": "stdout",
     "output_type": "stream",
     "text": [
      "sukanna\n"
     ]
    }
   ],
   "source": [
    "object.topstack()"
   ]
  },
  {
   "cell_type": "code",
   "execution_count": null,
   "metadata": {},
   "outputs": [
    {
     "name": "stdout",
     "output_type": "stream",
     "text": [
      "False\n"
     ]
    }
   ],
   "source": [
    "object.isempty()"
   ]
  }
 ],
 "metadata": {
  "kernelspec": {
   "display_name": "Python 3",
   "language": "python",
   "name": "python3"
  },
  "language_info": {
   "codemirror_mode": {
    "name": "ipython",
    "version": 3
   },
   "file_extension": ".py",
   "mimetype": "text/x-python",
   "name": "python",
   "nbconvert_exporter": "python",
   "pygments_lexer": "ipython3",
   "version": "3.11.4"
  },
  "orig_nbformat": 4
 },
 "nbformat": 4,
 "nbformat_minor": 2
}
